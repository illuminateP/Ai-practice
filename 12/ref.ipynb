{
 "cells": [
  {
   "cell_type": "code",
   "execution_count": null,
   "metadata": {},
   "outputs": [],
   "source": []
  },
  {
   "cell_type": "code",
   "execution_count": null,
   "metadata": {},
   "outputs": [],
   "source": []
  },
  {
   "cell_type": "code",
   "execution_count": null,
   "metadata": {},
   "outputs": [],
   "source": []
  },
  {
   "cell_type": "code",
   "execution_count": null,
   "metadata": {},
   "outputs": [],
   "source": []
  },
  {
   "cell_type": "markdown",
   "metadata": {},
   "source": [
    "### BILSTM"
   ]
  },
  {
   "cell_type": "code",
   "execution_count": null,
   "metadata": {},
   "outputs": [],
   "source": [
    "x_data = [] # 입력데이터 리스트\n",
    "y_data = [] # 출력데이터 리스트\n",
    "\n",
    "# 아래와 같이 1로 하면 샘플이 하나 없어지게 됩니다.\n",
    "for i in range(1, len(data_poly) - 24) :       # 1이 아니고 0입니다.\n",
    "    x = data_poly[i : i + 24, : ]\n",
    "    y = data_poly[i + 24, [-1]]\n",
    "    x_data.append(x)\n",
    "    y_data.append(y)\n",
    "\n",
    "x_data = np.array(x_data)\n",
    "y_data = np.array(y_data)\n",
    "\n",
    "print(x_data.shape)\n",
    "print(y_data.shape)\n"
   ]
  },
  {
   "cell_type": "code",
   "execution_count": null,
   "metadata": {},
   "outputs": [],
   "source": [
    "\n",
    "# ★ 모델 학습\n",
    "hist = model_DNN.fit(\n",
    "                    # ★ 입력이 2개 , 출력도 2개? -> DNN 2개를 병렬연결했기 때문\n",
    "                    [train_poly, train_poly], y_train,                               # 입력 / 라벨\n",
    "                     epochs = 20, batch_size = 10,                   # 학습 회수 / 10개 샘플마다 학습\n",
    "                     validation_data=([test_poly, test_poly], y_test),               # 검증 데이터\n",
    "                     callbacks = [monitor_val_lose]  # 저장 및 모니터링\n",
    "                    )"
   ]
  },
  {
   "cell_type": "code",
   "execution_count": null,
   "metadata": {},
   "outputs": [],
   "source": [
    "from keras.layers import concatenate                    # 두 출력을 연결\n",
    "\n",
    "# 모델 A\n",
    "inputA = Input(shape=(494,))                            # 입력층\n",
    "hidden1 = Dense(128, activation='relu')(inputA)          # 1 층\n",
    "hidden2 = Dense(128, activation='relu')(hidden1)        # 2 층\n",
    "hidden3 = Dense(128, activation='relu')(hidden2)        # 3 층\n",
    "outputA = Dense(8, activation='linear')(hidden3)       # 출력 층\n",
    "#\n",
    "\n",
    "## 모델 B\n",
    "inputB = Input(shape=(494,))                            # 입력층\n",
    "hidden1 = Dense(128, activation='relu')(inputB)          # 1 층\n",
    "hidden2 = Dense(128, activation='relu')(hidden1)        # 2 층\n",
    "hidden3 = Dense(128, activation='relu')(hidden2)        # 3 층\n",
    "outputB = Dense(16, activation='linear')(hidden3)       # 출력 층\n",
    "##\n",
    "\n",
    "# 두개의 인공 신경망(DNN)의 출력을 연결(concatenate)\n",
    "# output A 와 output B를 연결해 총 노드 수가 8 + 8 = 16개\n",
    "result = concatenate([outputA, outputB])\n",
    "\n",
    "z = Dense(8, activation = \"relu\")(result)\n",
    "\n",
    "z = Dense(1, activation = \"linear\")(z)\n",
    "\n",
    "# 두 모델을 합쳐 만들어진 모델\n",
    "model_DNN = Model(inputs = [inputA, inputB], outputs = z)\n",
    "model_DNN.summary()"
   ]
  },
  {
   "cell_type": "code",
   "execution_count": null,
   "metadata": {},
   "outputs": [],
   "source": []
  }
 ],
 "metadata": {
  "language_info": {
   "name": "python"
  }
 },
 "nbformat": 4,
 "nbformat_minor": 2
}
