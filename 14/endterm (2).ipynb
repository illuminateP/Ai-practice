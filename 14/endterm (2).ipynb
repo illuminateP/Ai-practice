{
  "cells": [
    {
      "cell_type": "markdown",
      "metadata": {
        "id": "iWTh2K2M8_hi"
      },
      "source": [
        "<b>\n",
        "<p>- 학습 데이터 : 2008년 부터 2021년 까지  6월 1일 부터 9월 30까지</p>\n",
        "<p>- 테스트 데이터 : 2022년 5월 1일 부터 10월 31일 까지</p>\n",
        "<p>- 독립 변수 : 기상요소(9개), 세시간전 강수량, 두시간전 강수량, 한시간전 강수량, 현재시간 강수량</p>\n",
        "<p>- 종속 변수 : 다음 시간 강수량</p></b>"
      ]
    },
    {
      "cell_type": "code",
      "execution_count": 1,
      "metadata": {
        "id": "-xt-WiSF2jir"
      },
      "outputs": [],
      "source": [
        "import numpy as np\n",
        "import pandas as pd\n",
        "\n",
        "import tensorflow as tf\n",
        "from keras import optimizers\n",
        "from keras.models import Sequential, Model\n",
        "from keras.layers import Dense, Input, Flatten, Concatenate, LSTM, Conv2D, MaxPooling2D\n",
        "from keras.utils import to_categorical\n",
        "from keras.callbacks import EarlyStopping\n",
        "from keras.models import load_model\n",
        "from keras.layers import concatenate                  # 두 출력을 연결\n",
        "\n",
        "from google.colab import drive                         # 코랩 드라이브와 연동\n",
        "from sklearn.metrics import mean_absolute_error        # 평균 절대값 에러(모델 평가 지수)\n",
        "from sklearn.metrics import mean_squared_error         # 평균 제곱근 에러(모델 평가 지수)\n",
        "\n",
        "from keras.datasets import cifar10\n"
      ]
    },
    {
      "cell_type": "code",
      "execution_count": 2,
      "metadata": {
        "colab": {
          "base_uri": "https://localhost:8080/"
        },
        "id": "2vhKWf_GszWm",
        "outputId": "c89255fb-e1ce-4486-814b-cf733158ba10"
      },
      "outputs": [
        {
          "output_type": "stream",
          "name": "stdout",
          "text": [
            "Drive already mounted at /content/drive; to attempt to forcibly remount, call drive.mount(\"/content/drive\", force_remount=True).\n"
          ]
        }
      ],
      "source": [
        "drive.mount('/content/drive')\n",
        "pathname = '/content/drive/MyDrive/Colab Notebooks/endterm.csv'\n"
      ]
    },
    {
      "cell_type": "code",
      "source": [
        "data = pd.read_csv(pathname, encoding = 'utf-8')\n",
        "print(data.info())         # 데이터 셋 정보보기"
      ],
      "metadata": {
        "colab": {
          "base_uri": "https://localhost:8080/"
        },
        "id": "hVwmjxyU7zye",
        "outputId": "35089f5c-8e23-4eab-be1f-945ead4ad496"
      },
      "execution_count": 3,
      "outputs": [
        {
          "output_type": "stream",
          "name": "stdout",
          "text": [
            "<class 'pandas.core.frame.DataFrame'>\n",
            "RangeIndex: 33814 entries, 0 to 33813\n",
            "Data columns (total 14 columns):\n",
            " #   Column  Non-Null Count  Dtype  \n",
            "---  ------  --------------  -----  \n",
            " 0   기온      33814 non-null  float64\n",
            " 1   풍속      33814 non-null  float64\n",
            " 2   습도      33814 non-null  float64\n",
            " 3   증기압     33814 non-null  float64\n",
            " 4   이슬점온도   33814 non-null  float64\n",
            " 5   현지기압    33814 non-null  float64\n",
            " 6   전운량     33814 non-null  int64  \n",
            " 7   중하층운량   33814 non-null  int64  \n",
            " 8   지면온도    33814 non-null  float64\n",
            " 9   강수량3    33814 non-null  float64\n",
            " 10  강수량2    33814 non-null  float64\n",
            " 11  강수량1    33814 non-null  float64\n",
            " 12  강수량     33814 non-null  float64\n",
            " 13  강수량_n1  33814 non-null  float64\n",
            "dtypes: float64(12), int64(2)\n",
            "memory usage: 3.6 MB\n",
            "None\n"
          ]
        }
      ]
    },
    {
      "cell_type": "code",
      "execution_count": 4,
      "metadata": {
        "colab": {
          "base_uri": "https://localhost:8080/"
        },
        "id": "V-GkJOyu8_ho",
        "outputId": "e25d6555-b1a7-4f06-fa4b-ebf7dd9cb610"
      },
      "outputs": [
        {
          "output_type": "stream",
          "name": "stdout",
          "text": [
            "[[0.44416244 0.12280702 0.3908046  0.24734043 0.34626866 0.99079026\n",
            "  0.         0.         0.55495979 0.         0.         0.\n",
            "  0.         0.        ]\n",
            " [0.41116751 0.0877193  0.50574713 0.27659574 0.39402985 0.99088929\n",
            "  0.         0.         0.5487042  0.         0.         0.\n",
            "  0.         0.        ]\n",
            " [0.39086294 0.16666667 0.52873563 0.27393617 0.3880597  0.9905922\n",
            "  0.         0.         0.54244861 0.         0.         0.\n",
            "  0.         0.        ]\n",
            " [0.37817259 0.15789474 0.55172414 0.27393617 0.3880597  0.99049317\n",
            "  0.1        0.         0.53887399 0.         0.         0.\n",
            "  0.         0.        ]\n",
            " [0.3857868  0.18421053 0.51724138 0.26329787 0.37313433 0.9905922\n",
            "  0.1        0.         0.54334227 0.         0.         0.\n",
            "  0.         0.        ]]\n"
          ]
        }
      ],
      "source": [
        "data = data.to_numpy()                                       # 리스트를 배열로\n",
        "data=(data-np.min(data,0))/(np.max(data,0)-np.min(data,0))   # 정규화\n",
        "print(data[0 : 5])                                           # 샘플보기"
      ]
    },
    {
      "cell_type": "code",
      "execution_count": 5,
      "metadata": {
        "colab": {
          "base_uri": "https://localhost:8080/"
        },
        "id": "KmOgPICo-BbE",
        "outputId": "5d6d550f-f60f-4826-e769-0ab38bb4d7b9"
      },
      "outputs": [
        {
          "output_type": "stream",
          "name": "stdout",
          "text": [
            "(33814, 13)\n",
            "(33814,)\n",
            "29398\n"
          ]
        }
      ],
      "source": [
        "# 데이터 셋 생성\n",
        "## 코딩 ################################\n",
        "# 입력 데이터(마지막 샘플 전까지)\n",
        "# 타겟(다음 시간 부터 마지막 샘플까지-- 다음 시간 전력량)\n",
        "\n",
        "x_data = data[ : , : -1 ]\n",
        "\n",
        "\n",
        "y_data = data[ : , -1]\n",
        "\n",
        "\n",
        "\n",
        "########################################\n",
        "# 데이터 셋 스케일 보기\n",
        "print(x_data.shape)\n",
        "print(y_data.shape)\n",
        "print(33814 - 4416)        # 학습 데이터와 테스트 데이터 분할"
      ]
    },
    {
      "cell_type": "code",
      "execution_count": 6,
      "metadata": {
        "colab": {
          "base_uri": "https://localhost:8080/"
        },
        "id": "8ShrJCs72jiw",
        "outputId": "9b60f058-a104-4bc9-d2de-4ef885324fe0"
      },
      "outputs": [
        {
          "output_type": "stream",
          "name": "stdout",
          "text": [
            "(29398, 13)\n",
            "(29398,)\n",
            "(4416, 13)\n",
            "(4416,)\n"
          ]
        }
      ],
      "source": [
        "# 학습 데이터 및 테스트 데이터 셋 분할\n",
        "## 코딩 ################################\n",
        "\n",
        "x_train = x_data[:29398, :]\n",
        "y_train = y_data[:29398]\n",
        "\n",
        "x_test = x_data[29398:, :]\n",
        "y_test = y_data[29398:]\n",
        "print(x_train.shape)                    # 데이터 셋 스케일 보기\n",
        "print(y_train.shape)\n",
        "print(x_test.shape)\n",
        "print(y_test.shape)\n",
        "# 학습 데이터\n",
        "# 테스트 데이터\n",
        "########################################"
      ]
    },
    {
      "cell_type": "markdown",
      "metadata": {
        "id": "6jyRMg-300hN"
      },
      "source": [
        "1. DNN 모델로 예측하기(keras API)"
      ]
    },
    {
      "cell_type": "code",
      "execution_count": 7,
      "metadata": {
        "colab": {
          "base_uri": "https://localhost:8080/"
        },
        "id": "fRuZ2P252jiw",
        "outputId": "897b7c9c-bded-4ad2-8619-15646494c408"
      },
      "outputs": [
        {
          "output_type": "stream",
          "name": "stdout",
          "text": [
            "Model: \"model\"\n",
            "_________________________________________________________________\n",
            " Layer (type)                Output Shape              Param #   \n",
            "=================================================================\n",
            " input_1 (InputLayer)        [(None, 13)]              0         \n",
            "                                                                 \n",
            " dense (Dense)               (None, 64)                896       \n",
            "                                                                 \n",
            " dense_1 (Dense)             (None, 128)               8320      \n",
            "                                                                 \n",
            " dense_2 (Dense)             (None, 256)               33024     \n",
            "                                                                 \n",
            " dense_3 (Dense)             (None, 128)               32896     \n",
            "                                                                 \n",
            " dense_4 (Dense)             (None, 64)                8256      \n",
            "                                                                 \n",
            " dense_5 (Dense)             (None, 1)                 65        \n",
            "                                                                 \n",
            "=================================================================\n",
            "Total params: 83457 (326.00 KB)\n",
            "Trainable params: 83457 (326.00 KB)\n",
            "Non-trainable params: 0 (0.00 Byte)\n",
            "_________________________________________________________________\n"
          ]
        }
      ],
      "source": [
        "# DNN 모델 셜계(keras API)\n",
        "## 코딩 ################################\n",
        "input = Input(shape=(13,))\n",
        "hidden1 = Dense(64, activation='relu')(input)\n",
        "hidden2 = Dense(128, activation='relu')(hidden1)\n",
        "hidden3 = Dense(256, activation='relu')(hidden2)\n",
        "hidden4 = Dense(128, activation='relu')(hidden3)\n",
        "hidden5 = Dense(64, activation='relu')(hidden4)\n",
        "output = Dense(1, activation='linear')(hidden5)\n",
        "model_DNN = Model(inputs=input, outputs=output)\n",
        "########################################\n",
        "model_DNN.summary()"
      ]
    },
    {
      "cell_type": "code",
      "execution_count": 8,
      "metadata": {
        "id": "6OvxGNYR2jix"
      },
      "outputs": [],
      "source": [
        "early_stopping = EarlyStopping(monitor = 'val_loss', min_delta = 0, patience = 3)\n",
        "model_DNN.compile(loss = 'mse', optimizer = optimizers.Adam(0.005), metrics=['accuracy'])"
      ]
    },
    {
      "cell_type": "code",
      "execution_count": 9,
      "metadata": {
        "colab": {
          "base_uri": "https://localhost:8080/"
        },
        "id": "n76U1LXF2jiy",
        "outputId": "a45b28c3-3d28-47aa-983b-839441023d6e"
      },
      "outputs": [
        {
          "output_type": "stream",
          "name": "stdout",
          "text": [
            "Epoch 1/10\n",
            "460/460 [==============================] - 7s 9ms/step - loss: 0.0011 - accuracy: 0.8888 - val_loss: 9.0737e-04 - val_accuracy: 0.8902\n",
            "Epoch 2/10\n",
            "460/460 [==============================] - 5s 10ms/step - loss: 8.7565e-04 - accuracy: 0.8888 - val_loss: 0.0010 - val_accuracy: 0.8902\n",
            "Epoch 3/10\n",
            "460/460 [==============================] - 4s 8ms/step - loss: 8.3664e-04 - accuracy: 0.8888 - val_loss: 9.2950e-04 - val_accuracy: 0.8902\n",
            "Epoch 4/10\n",
            "460/460 [==============================] - 4s 8ms/step - loss: 8.2401e-04 - accuracy: 0.8888 - val_loss: 8.6847e-04 - val_accuracy: 0.8902\n",
            "Epoch 5/10\n",
            "460/460 [==============================] - 3s 6ms/step - loss: 8.1693e-04 - accuracy: 0.8888 - val_loss: 8.8218e-04 - val_accuracy: 0.8902\n",
            "Epoch 6/10\n",
            "460/460 [==============================] - 3s 7ms/step - loss: 8.0972e-04 - accuracy: 0.8888 - val_loss: 0.0012 - val_accuracy: 0.8902\n",
            "Epoch 7/10\n",
            "460/460 [==============================] - 2s 4ms/step - loss: 8.2812e-04 - accuracy: 0.8888 - val_loss: 8.5396e-04 - val_accuracy: 0.8902\n",
            "Epoch 8/10\n",
            "460/460 [==============================] - 2s 4ms/step - loss: 8.1195e-04 - accuracy: 0.8888 - val_loss: 0.0013 - val_accuracy: 0.8902\n",
            "Epoch 9/10\n",
            "460/460 [==============================] - 2s 4ms/step - loss: 8.2228e-04 - accuracy: 0.8888 - val_loss: 9.7139e-04 - val_accuracy: 0.8902\n",
            "Epoch 10/10\n",
            "460/460 [==============================] - 3s 6ms/step - loss: 8.0609e-04 - accuracy: 0.8888 - val_loss: 8.6102e-04 - val_accuracy: 0.8902\n"
          ]
        }
      ],
      "source": [
        "# DNN 모델 학습\n",
        "## 코딩 ################################\n",
        "# 모델 학습\n",
        "\n",
        "hist = model_DNN.fit(\n",
        "x_train, y_train,                               # 입력 / 라벨\n",
        "epochs = 10, batch_size = 64,                   # 학습 회수 / 10개 샘플마다 학습\n",
        "validation_data=(x_test, y_test),               # 검증 데이터\n",
        "callbacks = [early_stopping]  # 저장 및 모니터링\n",
        ")\n",
        "########################################"
      ]
    },
    {
      "cell_type": "code",
      "source": [
        "# 예측값\n",
        "predict = model_DNN.predict(x_test)\n",
        "\n",
        "# 예측값과 실제갑간의 오차\n",
        "mae = mean_absolute_error(y_test, predict)\n",
        "mse = mean_squared_error(y_test, predict)\n",
        "rmse = mse**0.5\n",
        "print(mae)\n",
        "print(mse)\n",
        "print(rmse)"
      ],
      "metadata": {
        "colab": {
          "base_uri": "https://localhost:8080/"
        },
        "id": "9JY9HXTcF_t8",
        "outputId": "4f84c276-a5a7-4e7d-bdb8-9c2aff13f249"
      },
      "execution_count": 10,
      "outputs": [
        {
          "output_type": "stream",
          "name": "stdout",
          "text": [
            "138/138 [==============================] - 0s 2ms/step\n",
            "0.007965411462232518\n",
            "0.0008610191219911198\n",
            "0.029343127338290302\n"
          ]
        }
      ]
    },
    {
      "cell_type": "code",
      "execution_count": 11,
      "metadata": {
        "colab": {
          "base_uri": "https://localhost:8080/",
          "height": 313
        },
        "id": "Olv-qDRRhntH",
        "outputId": "cca1dd58-837f-4cae-9c5b-2d9cab495637"
      },
      "outputs": [
        {
          "output_type": "display_data",
          "data": {
            "text/plain": [
              "<Figure size 1000x300 with 1 Axes>"
            ],
            "image/png": "[encoded data removed]"
          },
          "metadata": {}
        }
      ],
      "source": [
        "import matplotlib.pyplot as plt\n",
        "plt.figure(figsize=(10, 3))\n",
        "plt.plot(y_test[0 : 2000], 'r', label = 'real data')   # 실제값 출력\n",
        "plt.plot(predict[0 : 2000], 'b', label = 'predict')    # 예측값 출력\n",
        "plt.xlabel(\"time\")\n",
        "plt.ylabel(\"solar insolation amount\")\n",
        "plt.legend(loc='upper left')\n",
        "plt.show()"
      ]
    },
    {
      "cell_type": "markdown",
      "source": [
        "2. DNN 병렬 모델로 예측하기(keras API)"
      ],
      "metadata": {
        "id": "_ggHM6oZK-Ht"
      }
    },
    {
      "cell_type": "code",
      "source": [
        "from tensorflow.keras.layers import Input, Dense, Concatenate\n",
        "from tensorflow.keras.models import Model\n",
        "\n",
        "# 첫 번째 입력 정의\n",
        "input_10 = Input(shape=(13,), name='input_10')\n",
        "dense_36 = Dense(64, activation='relu')(input_10)\n",
        "dense_38 = Dense(256, activation='relu')(dense_36)\n",
        "dense_39 = Dense(16, activation='relu')(dense_38)\n",
        "\n",
        "# 두 번째 입력 정의\n",
        "input_11 = Input(shape=(13,), name='input_11')\n",
        "dense_40 = Dense(256, activation='relu')(input_11)\n",
        "dense_41 = Dense(128, activation='relu')(dense_40)\n",
        "dense_42 = Dense(64, activation='relu')(dense_41)\n",
        "dense_43 = Dense(16, activation='relu')(dense_42)\n",
        "\n",
        "# 두 경로의 병합\n",
        "concatenated = Concatenate()([dense_39, dense_43])\n",
        "\n",
        "dense_44 = Dense(8, activation='relu')(concatenated)\n",
        "output = Dense(1, activation='linear')(dense_44)\n",
        "\n",
        "\n",
        "model_DNN = Model(inputs=[input_10, input_11], outputs=output)\n",
        "\n",
        "# 모델 요약 출력\n",
        "model_DNN.summary()\n"
      ],
      "metadata": {
        "colab": {
          "base_uri": "https://localhost:8080/"
        },
        "id": "2W1Jt5glK9eT",
        "outputId": "9d3f81d3-26b9-4bc9-db8d-3beb2bb32bb2"
      },
      "execution_count": 12,
      "outputs": [
        {
          "output_type": "stream",
          "name": "stdout",
          "text": [
            "Model: \"model_1\"\n",
            "__________________________________________________________________________________________________\n",
            " Layer (type)                Output Shape                 Param #   Connected to                  \n",
            "==================================================================================================\n",
            " input_11 (InputLayer)       [(None, 13)]                 0         []                            \n",
            "                                                                                                  \n",
            " input_10 (InputLayer)       [(None, 13)]                 0         []                            \n",
            "                                                                                                  \n",
            " dense_9 (Dense)             (None, 256)                  3584      ['input_11[0][0]']            \n",
            "                                                                                                  \n",
            " dense_6 (Dense)             (None, 64)                   896       ['input_10[0][0]']            \n",
            "                                                                                                  \n",
            " dense_10 (Dense)            (None, 128)                  32896     ['dense_9[0][0]']             \n",
            "                                                                                                  \n",
            " dense_7 (Dense)             (None, 256)                  16640     ['dense_6[0][0]']             \n",
            "                                                                                                  \n",
            " dense_11 (Dense)            (None, 64)                   8256      ['dense_10[0][0]']            \n",
            "                                                                                                  \n",
            " dense_8 (Dense)             (None, 16)                   4112      ['dense_7[0][0]']             \n",
            "                                                                                                  \n",
            " dense_12 (Dense)            (None, 16)                   1040      ['dense_11[0][0]']            \n",
            "                                                                                                  \n",
            " concatenate (Concatenate)   (None, 32)                   0         ['dense_8[0][0]',             \n",
            "                                                                     'dense_12[0][0]']            \n",
            "                                                                                                  \n",
            " dense_13 (Dense)            (None, 8)                    264       ['concatenate[0][0]']         \n",
            "                                                                                                  \n",
            " dense_14 (Dense)            (None, 1)                    9         ['dense_13[0][0]']            \n",
            "                                                                                                  \n",
            "==================================================================================================\n",
            "Total params: 67697 (264.44 KB)\n",
            "Trainable params: 67697 (264.44 KB)\n",
            "Non-trainable params: 0 (0.00 Byte)\n",
            "__________________________________________________________________________________________________\n"
          ]
        }
      ]
    },
    {
      "cell_type": "code",
      "source": [
        "early_stopping = EarlyStopping(monitor = 'val_loss', min_delta = 0, patience = 3)\n",
        "model_DNN.compile(loss = 'mse', optimizer = optimizers.Adam(0.005), metrics=['accuracy'])"
      ],
      "metadata": {
        "id": "xMS8w6ENMwTc"
      },
      "execution_count": 13,
      "outputs": []
    },
    {
      "cell_type": "code",
      "source": [
        "import numpy as np\n",
        "from sklearn.model_selection import train_test_split\n",
        "\n",
        "data_poly = []  # 입력 데이터 리스트\n",
        "y_train_list = []  # 출력 데이터 리스트\n",
        "\n",
        "# 데이터 준비\n",
        "for i in range(len(x_data) - 13):\n",
        "    x = x_data[i: i + 13, :]\n",
        "    y = y_data[i + 13: i + 14]  # 일관된 형태를 유지하기 위해 단일 요소 추출\n",
        "    data_poly.append(x)\n",
        "    y_train_list.append(y)\n",
        "\n",
        "data_poly = np.array(data_poly)\n",
        "y_train_array = np.array(y_train_list)\n",
        "\n",
        "\n",
        "\n",
        "print(\"data_poly shape:\", data_poly.shape)\n",
        "print(\"y_train_array shape:\", y_train_array.shape)\n",
        "\n",
        "# 데이터셋 분할\n",
        "X_train, X_test, Y_train, Y_test = train_test_split(data_poly, y_train_array, test_size=0.2, random_state=42)\n",
        "\n",
        "# 결과 출력\n",
        "print(\"X_train shape:\", X_train.shape)\n",
        "print(\"X_test shape:\", X_test.shape)\n",
        "print(\"Y_train shape:\", Y_train.shape)\n",
        "print(\"Y_test shape:\", Y_test.shape)\n"
      ],
      "metadata": {
        "colab": {
          "base_uri": "https://localhost:8080/"
        },
        "id": "LtdClHzKAvA1",
        "outputId": "0760fbf6-8669-4196-d30e-f7f194f4b65d"
      },
      "execution_count": 36,
      "outputs": [
        {
          "output_type": "stream",
          "name": "stdout",
          "text": [
            "data_poly shape: (33801, 13, 13)\n",
            "y_train_array shape: (33801,)\n",
            "X_train shape: (27040, 13, 13)\n",
            "X_test shape: (6761, 13, 13)\n",
            "Y_train shape: (27040,)\n",
            "Y_test shape: (6761,)\n"
          ]
        }
      ]
    },
    {
      "cell_type": "code",
      "source": [
        "# DNN 병렬 모델 학습\n",
        "## 코딩 ################################\n",
        "# 모델 학습\n",
        "hist = model_DNN.fit(\n",
        "                    [X_train, X_train], Y_train,                               # 입력 / 라벨\n",
        "                     epochs = 10, batch_size = 64,                   # 학습 회수 / 10개 샘플마다 학습\n",
        "                     validation_data=([X_test, X_test], Y_test),    # 검증 데이터\n",
        "                    callbacks=[early_stopping]\n",
        "                    )\n",
        "########################################"
      ],
      "metadata": {
        "colab": {
          "base_uri": "https://localhost:8080/"
        },
        "id": "pJGGHJ0RMx9-",
        "outputId": "9b6d31ea-167f-4da4-9207-27520978e1a5"
      },
      "execution_count": 39,
      "outputs": [
        {
          "output_type": "stream",
          "name": "stdout",
          "text": [
            "Epoch 1/10\n",
            "423/423 [==============================] - 7s 8ms/step - loss: 0.0020 - accuracy: 0.8894 - val_loss: 0.0013 - val_accuracy: 0.8871\n",
            "Epoch 2/10\n",
            "423/423 [==============================] - 3s 7ms/step - loss: 0.0011 - accuracy: 0.8894 - val_loss: 0.0013 - val_accuracy: 0.8871\n",
            "Epoch 3/10\n",
            "423/423 [==============================] - 4s 10ms/step - loss: 0.0011 - accuracy: 0.8894 - val_loss: 0.0013 - val_accuracy: 0.8871\n",
            "Epoch 4/10\n",
            "423/423 [==============================] - 4s 10ms/step - loss: 0.0011 - accuracy: 0.8894 - val_loss: 0.0013 - val_accuracy: 0.8871\n",
            "Epoch 5/10\n",
            "423/423 [==============================] - 3s 7ms/step - loss: 0.0011 - accuracy: 0.8894 - val_loss: 0.0013 - val_accuracy: 0.8871\n",
            "Epoch 6/10\n",
            "423/423 [==============================] - 3s 7ms/step - loss: 0.0011 - accuracy: 0.8894 - val_loss: 0.0013 - val_accuracy: 0.8871\n",
            "Epoch 7/10\n",
            "423/423 [==============================] - 4s 10ms/step - loss: 0.0011 - accuracy: 0.8894 - val_loss: 0.0013 - val_accuracy: 0.8871\n",
            "Epoch 8/10\n",
            "423/423 [==============================] - 6s 14ms/step - loss: 0.0011 - accuracy: 0.8894 - val_loss: 0.0013 - val_accuracy: 0.8871\n",
            "Epoch 9/10\n",
            "423/423 [==============================] - 3s 7ms/step - loss: 0.0011 - accuracy: 0.8894 - val_loss: 0.0013 - val_accuracy: 0.8871\n",
            "Epoch 10/10\n",
            "423/423 [==============================] - 4s 10ms/step - loss: 0.0011 - accuracy: 0.8894 - val_loss: 0.0014 - val_accuracy: 0.8871\n"
          ]
        }
      ]
    },
    {
      "cell_type": "code",
      "source": [
        "# 테스트 셋의 특성 값을 입력 하면 예측 값 산출\n",
        "predict = model_DNN.predict([x_test, x_test])\n",
        "\n",
        "# 예측값과 실제갑간의 오차\n",
        "mae = mean_absolute_error(y_test, predict)\n",
        "mse = mean_squared_error(y_test, predict)\n",
        "rmse = mse**0.5\n",
        "print(mae)\n",
        "print(mse)\n",
        "print(rmse)"
      ],
      "metadata": {
        "colab": {
          "base_uri": "https://localhost:8080/"
        },
        "id": "bJ4VlPB5N12z",
        "outputId": "f482b4f9-dd87-44f3-9084-8eeb7d3171fc"
      },
      "execution_count": 40,
      "outputs": [
        {
          "output_type": "stream",
          "name": "stdout",
          "text": [
            "138/138 [==============================] - 0s 2ms/step\n",
            "0.017069075997787547\n",
            "0.0012507737511138742\n",
            "0.03536627985968943\n"
          ]
        }
      ]
    },
    {
      "cell_type": "markdown",
      "metadata": {
        "id": "HQOVj9JuhntK"
      },
      "source": [
        "3. LSTM 모델로 예측하기(keras API)"
      ]
    },
    {
      "cell_type": "code",
      "execution_count": 41,
      "metadata": {
        "colab": {
          "base_uri": "https://localhost:8080/"
        },
        "id": "cX_BWO2PhntK",
        "outputId": "c8cee99a-0580-44dd-fe96-3c11146eecaf"
      },
      "outputs": [
        {
          "output_type": "stream",
          "name": "stdout",
          "text": [
            "(33790, 24, 13)\n",
            "(33790,)\n",
            "29373\n"
          ]
        }
      ],
      "source": [
        "x_data = []                         # 입력데이터 리스트\n",
        "y_data = []                         # 출력데이터 리스트\n",
        "\n",
        "# LSTM 데이터 셋 만들기\n",
        "## 코딩 ################################\n",
        "x_data = []  # 입력 데이터 리스트\n",
        "y_data = []  # 출력 데이터 리스트\n",
        "\n",
        "time_steps = 24  # 타임스텝 길이\n",
        "\n",
        "for i in range(len(data) - time_steps):\n",
        "    x = data[i:i + time_steps, :-1]  # 마지막 컬럼을 제외한 데이터\n",
        "    y = data[i + time_steps, -1]  # 예측할 값 (마지막 컬럼)\n",
        "    x_data.append(x)\n",
        "    y_data.append(y)\n",
        "\n",
        "# 리스트를 배열로 변환하기\n",
        "x_data = np.array(x_data)\n",
        "y_data = np.array(y_data)\n",
        "\n",
        "\n",
        "\n",
        "\n",
        "########################################\n",
        "\n",
        "# 리스트를 배열로 변환하기\n",
        "x_data = np.array(x_data)\n",
        "y_data = np.array(y_data)\n",
        "\n",
        "# 데이터 셋 스케알 보기\n",
        "print(x_data.shape)\n",
        "print(y_data.shape)\n",
        "print(33789 - 4416)"
      ]
    },
    {
      "cell_type": "code",
      "execution_count": 56,
      "metadata": {
        "colab": {
          "base_uri": "https://localhost:8080/"
        },
        "id": "9Z7KuVH1hntL",
        "outputId": "ed3acddc-11c3-494a-92e8-3cddc9b6260d"
      },
      "outputs": [
        {
          "output_type": "stream",
          "name": "stdout",
          "text": [
            "x_data shape: (33801, 13, 14)\n",
            "y_data shape: (33801, 14)\n",
            "(29398, 13, 13)\n",
            "(50000, 1)\n",
            "(4416, 13)\n",
            "(10000, 1)\n"
          ]
        }
      ],
      "source": [
        "# 학습 데이터 및 테스트 데이터 셋 분할\n",
        "## 코딩 ################################\n",
        "# 학습 데이터 셋\n",
        "x_data = []  # 입력 데이터 리스트\n",
        "y_data = []  # 출력 데이터 리스트\n",
        "\n",
        "time_steps = 13\n",
        "\n",
        "for i in range(len(data) - time_steps):\n",
        "    x = data[i:i + time_steps, :]\n",
        "    y = data[i + time_steps, :]\n",
        "    x_data.append(x)\n",
        "    y_data.append(y)\n",
        "\n",
        "# 리스트를 배열로 변환하기\n",
        "x_data = np.array(x_data)\n",
        "y_data = np.array(y_data)\n",
        "\n",
        "# 데이터 셋 스케일 확인\n",
        "print(\"x_data shape:\", x_data.shape)\n",
        "print(\"y_data shape:\", y_data.shape)\n",
        "\n",
        "# 데이터셋 분할\n",
        "\n",
        "X_train, X_test, Y_train, Y_test = train_test_split(x_data, y_data, test_size=0.2, random_state=42)\n",
        "\n",
        "# 결과 출력\n",
        "# 테스트 데이터 셋\n",
        "########################################\n",
        "\n",
        "print(x_train.shape)\n",
        "print(y_train.shape)\n",
        "print(x_test.shape)\n",
        "print(y_test.shape)"
      ]
    },
    {
      "cell_type": "code",
      "execution_count": 57,
      "metadata": {
        "colab": {
          "base_uri": "https://localhost:8080/"
        },
        "id": "icrfhjNUhntL",
        "outputId": "9fad7218-d112-4bf3-876d-b566770e0f01"
      },
      "outputs": [
        {
          "output_type": "stream",
          "name": "stdout",
          "text": [
            "Model: \"model_5\"\n",
            "_________________________________________________________________\n",
            " Layer (type)                Output Shape              Param #   \n",
            "=================================================================\n",
            " input_12 (InputLayer)       [(None, 13, 14)]          0         \n",
            "                                                                 \n",
            " lstm_2 (LSTM)               (None, 64)                20224     \n",
            "                                                                 \n",
            " dense_46 (Dense)            (None, 64)                4160      \n",
            "                                                                 \n",
            " dense_47 (Dense)            (None, 1)                 65        \n",
            "                                                                 \n",
            "=================================================================\n",
            "Total params: 24449 (95.50 KB)\n",
            "Trainable params: 24449 (95.50 KB)\n",
            "Non-trainable params: 0 (0.00 Byte)\n",
            "_________________________________________________________________\n"
          ]
        }
      ],
      "source": [
        "\n",
        "## 코딩 ################################\n",
        "input_layer = Input(shape=(time_steps, x_data.shape[2]), name='input_12')\n",
        "lstm_layer = LSTM(64, name='lstm_2')(input_layer)\n",
        "dense_1 = Dense(64, activation='relu', name='dense_46')(lstm_layer)\n",
        "output_layer = Dense(1, activation='linear', name='dense_47')(dense_1)\n",
        "\n",
        "model_LSTM = Model(inputs=input_layer, outputs=output_layer)\n",
        "########################################\n",
        "model_LSTM.summary()"
      ]
    },
    {
      "cell_type": "code",
      "execution_count": 58,
      "metadata": {
        "id": "rlllFeSahntL"
      },
      "outputs": [],
      "source": [
        "early_stopping = EarlyStopping(monitor = 'val_loss', min_delta = 0, patience = 3)\n",
        "model_LSTM.compile(loss = ' mse', optimizer = optimizers.Adam(0.005), metrics=['accuracy'])"
      ]
    },
    {
      "cell_type": "code",
      "execution_count": 59,
      "metadata": {
        "colab": {
          "base_uri": "https://localhost:8080/"
        },
        "id": "5Kwl5HBQhntL",
        "outputId": "30c6e4a4-5476-4d27-90ae-74b819346f9a"
      },
      "outputs": [
        {
          "output_type": "stream",
          "name": "stdout",
          "text": [
            "Epoch 1/10\n",
            "423/423 [==============================] - 6s 8ms/step - loss: 0.1320 - accuracy: 0.3547 - val_loss: 0.1314 - val_accuracy: 0.3557\n",
            "Epoch 2/10\n",
            "423/423 [==============================] - 2s 5ms/step - loss: 0.1312 - accuracy: 0.3558 - val_loss: 0.1314 - val_accuracy: 0.3554\n",
            "Epoch 3/10\n",
            "423/423 [==============================] - 2s 5ms/step - loss: 0.1312 - accuracy: 0.3558 - val_loss: 0.1314 - val_accuracy: 0.3557\n",
            "Epoch 4/10\n",
            "423/423 [==============================] - 2s 5ms/step - loss: 0.1312 - accuracy: 0.3557 - val_loss: 0.1313 - val_accuracy: 0.3558\n",
            "Epoch 5/10\n",
            "423/423 [==============================] - 2s 5ms/step - loss: 0.1311 - accuracy: 0.3556 - val_loss: 0.1312 - val_accuracy: 0.3552\n",
            "Epoch 6/10\n",
            "423/423 [==============================] - 3s 7ms/step - loss: 0.1310 - accuracy: 0.3554 - val_loss: 0.1311 - val_accuracy: 0.3557\n",
            "Epoch 7/10\n",
            "423/423 [==============================] - 3s 6ms/step - loss: 0.1309 - accuracy: 0.3557 - val_loss: 0.1311 - val_accuracy: 0.3556\n",
            "Epoch 8/10\n",
            "423/423 [==============================] - 2s 5ms/step - loss: 0.1309 - accuracy: 0.3554 - val_loss: 0.1310 - val_accuracy: 0.3553\n",
            "Epoch 9/10\n",
            "423/423 [==============================] - 2s 5ms/step - loss: 0.1309 - accuracy: 0.3556 - val_loss: 0.1311 - val_accuracy: 0.3554\n",
            "Epoch 10/10\n",
            "423/423 [==============================] - 2s 5ms/step - loss: 0.1309 - accuracy: 0.3555 - val_loss: 0.1311 - val_accuracy: 0.3555\n"
          ]
        }
      ],
      "source": [
        "# 모델 학습\n",
        "## 코딩 ################################\n",
        "\n",
        "# 모델 학습\n",
        "hist = model_LSTM.fit(\n",
        "    X_train, Y_train,  # 입력 / 라벨\n",
        "    epochs=10, batch_size=64,  # 학습 회수 / 배치 크기\n",
        "    validation_data=(X_test, Y_test),  # 검증 데이터\n",
        "    callbacks=[early_stopping]  # 저장 및 모니터링\n",
        ")\n",
        "########################################"
      ]
    },
    {
      "cell_type": "code",
      "execution_count": null,
      "metadata": {
        "colab": {
          "base_uri": "https://localhost:8080/"
        },
        "id": "2DOeXr8AhntL",
        "outputId": "42ff9ce8-18a5-4e62-f6b3-71d2c7a4efd2"
      },
      "outputs": [
        {
          "output_type": "stream",
          "name": "stdout",
          "text": [
            "139/139 [==============================] - 1s 2ms/step\n",
            "0.010224539687679961\n",
            "0.001080820717916736\n",
            "0.032875837904405354\n"
          ]
        }
      ],
      "source": [
        "# 테스트 셋의 특성 값을 입력 하면 예측 값 산출\n",
        "predict = model_LSTM.predict(x_test)\n",
        "\n",
        "# 예측값과 실제갑간의 오차\n",
        "mae = mean_absolute_error(y_test, predict)\n",
        "mse = mean_squared_error(y_test, predict)\n",
        "rmse = mse**0.5\n",
        "print(mae)\n",
        "print(mse)\n",
        "print(rmse)"
      ]
    },
    {
      "cell_type": "code",
      "execution_count": null,
      "metadata": {
        "colab": {
          "base_uri": "https://localhost:8080/",
          "height": 272
        },
        "id": "750P71wPhntL",
        "outputId": "9fc201b4-b5d9-44b4-8f82-87f540edf35e"
      },
      "outputs": [
        {
          "output_type": "display_data",
          "data": {
            "text/plain": [
              "<Figure size 1000x300 with 1 Axes>"
            ],
            "image/png": "[encoded data removed]"
          },
          "metadata": {}
        }
      ],
      "source": [
        "import matplotlib.pyplot as plt\n",
        "plt.figure(figsize=(10, 3))\n",
        "plt.plot(y_test[0 : 2000], 'r', label = 'real data')   # 실제값 출력\n",
        "plt.plot(predict[0 : 2000], 'b', label = 'predict')    # 예측값 출력\n",
        "plt.xlabel(\"time\")\n",
        "plt.ylabel(\"solar insolation amount\")\n",
        "plt.legend(loc='upper left')\n",
        "plt.show()"
      ]
    },
    {
      "cell_type": "markdown",
      "source": [
        "4. CNN으로 클래스 예측하기"
      ],
      "metadata": {
        "id": "YV8L2OKUVW2L"
      }
    },
    {
      "cell_type": "code",
      "source": [
        "# Cifar10 데이터 로딩\n",
        "(X_train, y_train), (X_test, y_test) = cifar10.load_data()\n",
        "print(X_train.shape)\n",
        "print(y_train.shape)\n",
        "print(X_test.shape)\n",
        "print(y_test.shape)"
      ],
      "metadata": {
        "colab": {
          "base_uri": "https://localhost:8080/"
        },
        "id": "herws5rEU_VC",
        "outputId": "84cf052a-1ecf-4a7c-fe19-02b9c985e1f0"
      },
      "execution_count": 48,
      "outputs": [
        {
          "output_type": "stream",
          "name": "stdout",
          "text": [
            "Downloading data from https://www.cs.toronto.edu/~kriz/cifar-10-python.tar.gz\n",
            "170498071/170498071 [==============================] - 13s 0us/step\n",
            "(50000, 32, 32, 3)\n",
            "(50000, 1)\n",
            "(10000, 32, 32, 3)\n",
            "(10000, 1)\n"
          ]
        }
      ]
    },
    {
      "cell_type": "code",
      "source": [
        "X_train = X_train/255.0                  # 정규화\n",
        "X_test = X_test /255.0"
      ],
      "metadata": {
        "id": "1hHYCY2NWC57"
      },
      "execution_count": 50,
      "outputs": []
    },
    {
      "cell_type": "code",
      "source": [
        "Y_train = to_categorical(y_train)        # 원핫 인코딩\n",
        "Y_test = to_categorical(y_test)\n",
        "print(Y_train.shape)\n",
        "print(Y_test.shape)"
      ],
      "metadata": {
        "colab": {
          "base_uri": "https://localhost:8080/"
        },
        "id": "tUpXJFi_WJD7",
        "outputId": "c13ffcb7-b2bb-42c1-e9f6-4d3038488af4"
      },
      "execution_count": 51,
      "outputs": [
        {
          "output_type": "stream",
          "name": "stdout",
          "text": [
            "(50000, 10)\n",
            "(10000, 10)\n"
          ]
        }
      ]
    },
    {
      "cell_type": "code",
      "source": [
        "# CNN 모델 설계\n",
        "## 코딩 ################################\n",
        "input_layer = Input(shape=(32, 32, 3), name='input_14')\n",
        "\n",
        "conv1 = Conv2D(32, (3, 3), padding='same', activation='relu', name='conv2d_24')(input_layer)\n",
        "conv2 = Conv2D(32, (3, 3), padding='same', activation='relu', name='conv2d_25')(conv1)\n",
        "conv3 = Conv2D(32, (3, 3), padding='same', activation='relu', name='conv2d_26')(conv2)\n",
        "pool1 = MaxPooling2D((2, 2), name='max_pooling2d_9')(conv3)\n",
        "\n",
        "conv4 = Conv2D(64, (3, 3), padding='same', activation='relu', name='conv2d_27')(pool1)\n",
        "conv5 = Conv2D(64, (3, 3), padding='same', activation='relu', name='conv2d_28')(conv4)\n",
        "pool2 = MaxPooling2D((2, 2), name='max_pooling2d_10')(conv5)\n",
        "\n",
        "conv6 = Conv2D(128, (3, 3), padding='same', activation='relu', name='conv2d_29')(pool2)\n",
        "pool3 = MaxPooling2D((2, 2), name='max_pooling2d_11')(conv6)\n",
        "\n",
        "conv7 = Conv2D(256, (3, 3), padding='same', activation='relu', name='conv2d_30')(pool3)\n",
        "conv8 = Conv2D(256, (3, 3), padding='same', activation='relu', name='conv2d_31')(conv7)\n",
        "\n",
        "flatten = Flatten(name='flatten_3')(conv8)\n",
        "dense1 = Dense(256, activation='relu', name='dense_50')(flatten)\n",
        "output_layer = Dense(10, activation='softmax', name='dense_51')(dense1)\n",
        "\n",
        "model = Model(inputs=input_layer, outputs=output_layer)\n",
        "\n",
        "########################################\n",
        "\n",
        "model.summary()"
      ],
      "metadata": {
        "colab": {
          "base_uri": "https://localhost:8080/"
        },
        "id": "m9ybngkTWgsS",
        "outputId": "0e7bf014-208e-48ca-89a5-839221baa2e5"
      },
      "execution_count": 52,
      "outputs": [
        {
          "output_type": "stream",
          "name": "stdout",
          "text": [
            "Model: \"model_4\"\n",
            "_________________________________________________________________\n",
            " Layer (type)                Output Shape              Param #   \n",
            "=================================================================\n",
            " input_14 (InputLayer)       [(None, 32, 32, 3)]       0         \n",
            "                                                                 \n",
            " conv2d_24 (Conv2D)          (None, 32, 32, 32)        896       \n",
            "                                                                 \n",
            " conv2d_25 (Conv2D)          (None, 32, 32, 32)        9248      \n",
            "                                                                 \n",
            " conv2d_26 (Conv2D)          (None, 32, 32, 32)        9248      \n",
            "                                                                 \n",
            " max_pooling2d_9 (MaxPoolin  (None, 16, 16, 32)        0         \n",
            " g2D)                                                            \n",
            "                                                                 \n",
            " conv2d_27 (Conv2D)          (None, 16, 16, 64)        18496     \n",
            "                                                                 \n",
            " conv2d_28 (Conv2D)          (None, 16, 16, 64)        36928     \n",
            "                                                                 \n",
            " max_pooling2d_10 (MaxPooli  (None, 8, 8, 64)          0         \n",
            " ng2D)                                                           \n",
            "                                                                 \n",
            " conv2d_29 (Conv2D)          (None, 8, 8, 128)         73856     \n",
            "                                                                 \n",
            " max_pooling2d_11 (MaxPooli  (None, 4, 4, 128)         0         \n",
            " ng2D)                                                           \n",
            "                                                                 \n",
            " conv2d_30 (Conv2D)          (None, 4, 4, 256)         295168    \n",
            "                                                                 \n",
            " conv2d_31 (Conv2D)          (None, 4, 4, 256)         590080    \n",
            "                                                                 \n",
            " flatten_3 (Flatten)         (None, 4096)              0         \n",
            "                                                                 \n",
            " dense_50 (Dense)            (None, 256)               1048832   \n",
            "                                                                 \n",
            " dense_51 (Dense)            (None, 10)                2570      \n",
            "                                                                 \n",
            "=================================================================\n",
            "Total params: 2085322 (7.95 MB)\n",
            "Trainable params: 2085322 (7.95 MB)\n",
            "Non-trainable params: 0 (0.00 Byte)\n",
            "_________________________________________________________________\n"
          ]
        }
      ]
    },
    {
      "cell_type": "code",
      "source": [
        "early_stopping = EarlyStopping(monitor = 'val_loss', min_delta = 0, patience = 3)\n",
        "model.compile(loss = 'categorical_crossentropy', optimizer = optimizers.Adam(0.001), metrics=['accuracy'])"
      ],
      "metadata": {
        "id": "Et4UzFQkX9PK"
      },
      "execution_count": 53,
      "outputs": []
    },
    {
      "cell_type": "code",
      "source": [
        "# 모델 학습\n",
        "## 코딩 ################################\n",
        "hist = model.fit(\n",
        "    X_train, Y_train,  # 입력 / 라벨\n",
        "    epochs=10, batch_size=64,  # 학습 회수 / 배치 크기\n",
        "    validation_data=(X_test, Y_test),  # 검증 데이터\n",
        "    callbacks=[early_stopping]  # 저장 및 모니터링\n",
        ")\n",
        "########################################"
      ],
      "metadata": {
        "colab": {
          "base_uri": "https://localhost:8080/"
        },
        "id": "KS-_-hCvYBGC",
        "outputId": "c63bce0b-858f-40d2-aab8-fb640adc057e"
      },
      "execution_count": 54,
      "outputs": [
        {
          "output_type": "stream",
          "name": "stdout",
          "text": [
            "Epoch 1/10\n",
            "782/782 [==============================] - 16s 13ms/step - loss: 1.5707 - accuracy: 0.4146 - val_loss: 1.3041 - val_accuracy: 0.5320\n",
            "Epoch 2/10\n",
            "782/782 [==============================] - 8s 10ms/step - loss: 1.0444 - accuracy: 0.6251 - val_loss: 0.9770 - val_accuracy: 0.6559\n",
            "Epoch 3/10\n",
            "782/782 [==============================] - 9s 11ms/step - loss: 0.8026 - accuracy: 0.7160 - val_loss: 0.8366 - val_accuracy: 0.7123\n",
            "Epoch 4/10\n",
            "782/782 [==============================] - 9s 11ms/step - loss: 0.6454 - accuracy: 0.7745 - val_loss: 0.7290 - val_accuracy: 0.7546\n",
            "Epoch 5/10\n",
            "782/782 [==============================] - 12s 15ms/step - loss: 0.5236 - accuracy: 0.8146 - val_loss: 0.7180 - val_accuracy: 0.7645\n",
            "Epoch 6/10\n",
            "782/782 [==============================] - 9s 11ms/step - loss: 0.4248 - accuracy: 0.8500 - val_loss: 0.7357 - val_accuracy: 0.7644\n",
            "Epoch 7/10\n",
            "782/782 [==============================] - 9s 12ms/step - loss: 0.3379 - accuracy: 0.8802 - val_loss: 0.8045 - val_accuracy: 0.7591\n",
            "Epoch 8/10\n",
            "782/782 [==============================] - 9s 11ms/step - loss: 0.2649 - accuracy: 0.9060 - val_loss: 0.7888 - val_accuracy: 0.7735\n"
          ]
        }
      ]
    },
    {
      "cell_type": "code",
      "source": [
        "# 테스트 데이터로 정확도 측정하기\n",
        "test_loss, test_acc = model.evaluate(X_test, Y_test)\n",
        "print('test_acc: ', test_acc)"
      ],
      "metadata": {
        "colab": {
          "base_uri": "https://localhost:8080/"
        },
        "id": "vUM6BE3KYJF0",
        "outputId": "2d0c7e4e-8625-43ea-ac12-c4d7ac3c43e1"
      },
      "execution_count": 55,
      "outputs": [
        {
          "output_type": "stream",
          "name": "stdout",
          "text": [
            "313/313 [==============================] - 1s 3ms/step - loss: 0.7888 - accuracy: 0.7735\n",
            "test_acc:  0.7735000252723694\n"
          ]
        }
      ]
    }
  ],
  "metadata": {
    "colab": {
      "provenance": [],
      "gpuType": "T4"
    },
    "kernelspec": {
      "display_name": "Python 3",
      "name": "python3"
    },
    "language_info": {
      "codemirror_mode": {
        "name": "ipython",
        "version": 3
      },
      "file_extension": ".py",
      "mimetype": "text/x-python",
      "name": "python",
      "nbconvert_exporter": "python",
      "pygments_lexer": "ipython3",
      "version": "3.9.13"
    },
    "accelerator": "GPU"
  },
  "nbformat": 4,
  "nbformat_minor": 0
}