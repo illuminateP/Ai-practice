{
  "cells": [
    {
      "cell_type": "code",
      "execution_count": 1,
      "metadata": {
        "id": "t9aMbSVMkwSh"
      },
      "outputs": [],
      "source": [
        "from keras.models import Sequential\n",
        "from keras.layers import Dense\n",
        "from keras.layers import SimpleRNN, LSTM\n",
        "from keras import optimizers\n",
        "from keras.callbacks import EarlyStopping\n",
        "from keras.callbacks import ModelCheckpoint\n",
        "import tensorflow as tf\n",
        "import numpy as np\n",
        "\n",
        "from sklearn.metrics import mean_absolute_error        # 평균 절대값 에러(모델 평가 지수)\n",
        "from sklearn.metrics import mean_squared_error         # 평균 제곱근 에러(모델 평가 지수)"
      ]
    },
    {
      "cell_type": "code",
      "execution_count": 2,
      "metadata": {
        "colab": {
          "base_uri": "https://localhost:8080/"
        },
        "id": "qEB3zZ8OlBFw",
        "outputId": "7edf1a9d-f89e-4ca7-b531-93841032f48f"
      },
      "outputs": [
        {
          "output_type": "stream",
          "name": "stdout",
          "text": [
            "Drive already mounted at /content/drive; to attempt to forcibly remount, call drive.mount(\"/content/drive\", force_remount=True).\n"
          ]
        }
      ],
      "source": [
        "from google.colab import drive\n",
        "drive.mount('/content/drive')"
      ]
    },
    {
      "cell_type": "code",
      "execution_count": 3,
      "metadata": {
        "colab": {
          "base_uri": "https://localhost:8080/"
        },
        "id": "1YPVU5V8kwSj",
        "outputId": "e0428baa-f1c9-47a5-90ad-fecb0a8b6231"
      },
      "outputs": [
        {
          "output_type": "stream",
          "name": "stdout",
          "text": [
            "(9288, 5)\n",
            "7430.400000000001\n"
          ]
        }
      ],
      "source": [
        "filename = '/content/drive/MyDrive/Colab Notebooks/10주차/data/stock.csv'\n",
        "data = np.loadtxt(filename, delimiter=',', dtype=np.float32)\n",
        "# 정규화\n",
        "data = (data - np.min(data, 0)) / (np.max(data, 0) - np.min(data, 0))\n",
        "\n",
        "print(data.shape)\n",
        "print(len(data) * 0.8)    # 데이터 나누기 위해서"
      ]
    },
    {
      "cell_type": "code",
      "execution_count": 4,
      "metadata": {
        "id": "A_8qyoe_Tj3Z"
      },
      "outputs": [],
      "source": [
        "x_data = []                         # 입력데이터 리스트\n",
        "y_data = []                         # 출력데이터 리스트\n",
        "\n",
        "for i in range(0, len(data) - 5) :   # 9288 - 5\n",
        "    x = data[i  :  i + 5,  :  ]        # 0 – 4 / 1 - 5 / 2 - 6 /...........\n",
        "    y = data[i + 5, [-1]]            # 5      / 6      / 7     / .........\n",
        "    x_data.append(x)\n",
        "    y_data.append(y)\n",
        "\n",
        "x_data = np.array(x_data)       # 리스트를 배열로 ..\n",
        "y_data = np.array(y_data)\n"
      ]
    },
    {
      "cell_type": "code",
      "execution_count": 5,
      "metadata": {
        "colab": {
          "base_uri": "https://localhost:8080/"
        },
        "id": "lxPlIRwoTz4B",
        "outputId": "30d427cf-8eb6-43e2-a804-6b3bb1adfc3b"
      },
      "outputs": [
        {
          "output_type": "stream",
          "name": "stdout",
          "text": [
            "[[0.00024397 0.00024389 0.00024715 0.00034218 0.00022765]\n",
            " [0.00022654 0.00022647 0.0002295  0.00033218 0.00021014]\n",
            " [0.00022654 0.00024389 0.0002295  0.00236327 0.00022765]\n",
            " [0.00022654 0.00022647 0.00021185 0.00258739 0.00019263]\n",
            " [0.00017426 0.0001742  0.00012358 0.00099453 0.00012258]]\n",
            "[0.0001401]\n"
          ]
        }
      ],
      "source": [
        "print(x_data[0])                #  첫번쩨 입력 데이타\n",
        "print(y_data[0])                # 첫번째 리벨"
      ]
    },
    {
      "cell_type": "code",
      "execution_count": 6,
      "metadata": {
        "colab": {
          "base_uri": "https://localhost:8080/"
        },
        "id": "OqiiXq21T6wR",
        "outputId": "63157e0f-fa92-4164-de2c-7485959a313e"
      },
      "outputs": [
        {
          "output_type": "stream",
          "name": "stdout",
          "text": [
            "(7430, 5, 5)\n",
            "(7430, 1)\n",
            "(1853, 5, 5)\n",
            "(1853, 1)\n"
          ]
        }
      ],
      "source": [
        "x_train = x_data[ : 7430]\n",
        "y_train = y_data[ : 7430]\n",
        "print(x_train.shape)\n",
        "print(y_train.shape)\n",
        "x_test = x_data[7430 : ]\n",
        "y_test = y_data[7430 : ]\n",
        "print(x_test.shape)\n",
        "print(y_test.shape)"
      ]
    },
    {
      "cell_type": "markdown",
      "metadata": {
        "id": "AbXbPvhzOx5w"
      },
      "source": [
        "## LSTM_1 모델"
      ]
    },
    {
      "cell_type": "code",
      "execution_count": 7,
      "metadata": {
        "colab": {
          "base_uri": "https://localhost:8080/"
        },
        "id": "0vMHL56hkwSl",
        "outputId": "30f11232-facf-4360-869c-3015f0eef25f"
      },
      "outputs": [
        {
          "output_type": "stream",
          "name": "stdout",
          "text": [
            "Model: \"sequential\"\n",
            "_________________________________________________________________\n",
            " Layer (type)                Output Shape              Param #   \n",
            "=================================================================\n",
            " lstm (LSTM)                 (None, 32)                4864      \n",
            "                                                                 \n",
            " dense (Dense)               (None, 1)                 33        \n",
            "                                                                 \n",
            "=================================================================\n",
            "Total params: 4897 (19.13 KB)\n",
            "Trainable params: 4897 (19.13 KB)\n",
            "Non-trainable params: 0 (0.00 Byte)\n",
            "_________________________________________________________________\n",
            "Total params : 4897\n"
          ]
        }
      ],
      "source": [
        "model = Sequential()\n",
        "model.add(LSTM(32, input_shape=(5, 5)))\n",
        "model.add(Dense(1, activation='linear'))\n",
        "model.summary()\n",
        "\n",
        "print(f\"Total params : {(32 * 32 * 4) + (5 * 32 * 4) + ( 32 * 4 ) + (32 * 1 ) + 1 }\")"
      ]
    },
    {
      "cell_type": "code",
      "execution_count": 8,
      "metadata": {
        "id": "5sjv4-cxRbdN"
      },
      "outputs": [],
      "source": [
        "model_checkpoint = ModelCheckpoint(filepath =  \"./model.h5\", monitor='val_loss', verbose=1, save_best_only=True)\n",
        "early_stopping = EarlyStopping(monitor = 'val_loss', min_delta = 0, patience = 3)\n",
        "\n",
        "# 모델 학습과정 설정하기\n",
        "model.compile(loss = 'mse', optimizer = optimizers.Adam(0.001), metrics=['accuracy'])"
      ]
    },
    {
      "cell_type": "code",
      "execution_count": 9,
      "metadata": {
        "colab": {
          "base_uri": "https://localhost:8080/"
        },
        "id": "Q5gu1CqTVq3k",
        "outputId": "acfd676f-c61a-45bb-8af8-76cab7b4ad74"
      },
      "outputs": [
        {
          "output_type": "stream",
          "name": "stdout",
          "text": [
            "Epoch 1/3\n",
            "743/743 [==============================] - ETA: 0s - loss: 2.5140e-04 - accuracy: 0.0016\n",
            "Epoch 1: val_loss improved from inf to 0.00143, saving model to ./model.h5\n",
            "743/743 [==============================] - 7s 6ms/step - loss: 2.5140e-04 - accuracy: 0.0016 - val_loss: 0.0014 - val_accuracy: 5.3967e-04\n",
            "Epoch 2/3\n",
            " 21/743 [..............................] - ETA: 3s - loss: 2.5479e-05 - accuracy: 0.0000e+00"
          ]
        },
        {
          "output_type": "stream",
          "name": "stderr",
          "text": [
            "/usr/local/lib/python3.10/dist-packages/keras/src/engine/training.py:3103: UserWarning: You are saving your model as an HDF5 file via `model.save()`. This file format is considered legacy. We recommend using instead the native Keras format, e.g. `model.save('my_model.keras')`.\n",
            "  saving_api.save_model(\n"
          ]
        },
        {
          "output_type": "stream",
          "name": "stdout",
          "text": [
            "734/743 [============================>.] - ETA: 0s - loss: 2.1708e-05 - accuracy: 0.0016\n",
            "Epoch 2: val_loss did not improve from 0.00143\n",
            "743/743 [==============================] - 3s 4ms/step - loss: 2.1696e-05 - accuracy: 0.0016 - val_loss: 0.0017 - val_accuracy: 5.3967e-04\n",
            "Epoch 3/3\n",
            "737/743 [============================>.] - ETA: 0s - loss: 2.3303e-05 - accuracy: 0.0016\n",
            "Epoch 3: val_loss did not improve from 0.00143\n",
            "743/743 [==============================] - 3s 4ms/step - loss: 2.3206e-05 - accuracy: 0.0016 - val_loss: 0.0020 - val_accuracy: 5.3967e-04\n"
          ]
        }
      ],
      "source": [
        "hist = model.fit(\n",
        "                  x_train, y_train,                        # 입력 / 라벨\n",
        "                  epochs = 3, batch_size = 10,            # 학습 회수 / 학습 10번 후 오차 감소\n",
        "                  validation_data=(x_test, y_test),        # 검증 데이터\n",
        "                  callbacks = [model_checkpoint, early_stopping] # 저장 및 모니터링\n",
        "                 )"
      ]
    },
    {
      "cell_type": "code",
      "execution_count": 10,
      "metadata": {
        "colab": {
          "base_uri": "https://localhost:8080/"
        },
        "id": "soaCHtiLkwSm",
        "outputId": "c3122907-6cc8-45c3-c8b0-41ea3d687bc9"
      },
      "outputs": [
        {
          "output_type": "stream",
          "name": "stdout",
          "text": [
            "58/58 [==============================] - 0s 5ms/step - loss: 0.0020 - accuracy: 5.3967e-04\n",
            "58/58 [==============================] - 2s 5ms/step\n",
            "0.033447552\n",
            "0.0020420437\n",
            "0.04518897787407172\n"
          ]
        }
      ],
      "source": [
        "model.evaluate(x_test, y_test) # 모델 평가\n",
        "\n",
        "# 테스트 데이터 입력하여 예측값 구하기\n",
        "predict = model.predict(x_test)\n",
        "\n",
        "# 테스트 세트에 대한 평균 절댓값 오차\n",
        "mae = mean_absolute_error(y_test, predict)\n",
        "mse = mean_squared_error(y_test, predict)\n",
        "rmse = mse**0.5\n",
        "print(mae)\n",
        "print(mse)\n",
        "print(rmse)"
      ]
    },
    {
      "cell_type": "markdown",
      "metadata": {
        "id": "WTecDeSiO4ru"
      },
      "source": [
        "## LSTM_2 모델"
      ]
    },
    {
      "cell_type": "code",
      "execution_count": 11,
      "metadata": {
        "colab": {
          "base_uri": "https://localhost:8080/"
        },
        "id": "IuGbiPjda60v",
        "outputId": "11667078-ddca-4b17-a822-f4db4b170a8e"
      },
      "outputs": [
        {
          "output_type": "stream",
          "name": "stdout",
          "text": [
            "Model: \"sequential_1\"\n",
            "_________________________________________________________________\n",
            " Layer (type)                Output Shape              Param #   \n",
            "=================================================================\n",
            " lstm_1 (LSTM)               (None, 64)                17920     \n",
            "                                                                 \n",
            " dense_1 (Dense)             (None, 128)               8320      \n",
            "                                                                 \n",
            " dense_2 (Dense)             (None, 1)                 129       \n",
            "                                                                 \n",
            "=================================================================\n",
            "Total params: 26369 (103.00 KB)\n",
            "Trainable params: 26369 (103.00 KB)\n",
            "Non-trainable params: 0 (0.00 Byte)\n",
            "_________________________________________________________________\n"
          ]
        }
      ],
      "source": [
        "model = Sequential()\n",
        "model.add(LSTM(64, input_shape=(5, 5)))\n",
        "model.add(Dense(128, activation='relu'))        # Dense 층 추가\n",
        "model.add(Dense(1, activation='linear'))\n",
        "model.summary()"
      ]
    },
    {
      "cell_type": "code",
      "execution_count": 12,
      "metadata": {
        "id": "JIP0MQbicyDt"
      },
      "outputs": [],
      "source": [
        "model_checkpoint = ModelCheckpoint(filepath =  \"./model.h5\", monitor='val_loss', verbose=1, save_best_only=True)\n",
        "early_stopping = EarlyStopping(monitor = 'val_loss', min_delta = 0, patience = 3)\n",
        "\n",
        "# 모델 학습과정 설정하기\n",
        "model.compile(loss = 'mse', optimizer = optimizers.Adam(0.001), metrics=['accuracy'])"
      ]
    },
    {
      "cell_type": "code",
      "execution_count": 13,
      "metadata": {
        "colab": {
          "base_uri": "https://localhost:8080/"
        },
        "id": "lM0R9baYcilq",
        "outputId": "e58b6a9e-1383-4ac0-e3a7-3d22bbb449da"
      },
      "outputs": [
        {
          "output_type": "stream",
          "name": "stdout",
          "text": [
            "Epoch 1/3\n",
            "742/743 [============================>.] - ETA: 0s - loss: 8.1062e-05 - accuracy: 0.0016\n",
            "Epoch 1: val_loss improved from inf to 0.00026, saving model to ./model.h5\n",
            "743/743 [==============================] - 6s 5ms/step - loss: 8.0997e-05 - accuracy: 0.0016 - val_loss: 2.5567e-04 - val_accuracy: 5.3967e-04\n",
            "Epoch 2/3\n",
            " 42/743 [>.............................] - ETA: 2s - loss: 2.0725e-05 - accuracy: 0.0000e+00"
          ]
        },
        {
          "output_type": "stream",
          "name": "stderr",
          "text": [
            "/usr/local/lib/python3.10/dist-packages/keras/src/engine/training.py:3103: UserWarning: You are saving your model as an HDF5 file via `model.save()`. This file format is considered legacy. We recommend using instead the native Keras format, e.g. `model.save('my_model.keras')`.\n",
            "  saving_api.save_model(\n"
          ]
        },
        {
          "output_type": "stream",
          "name": "stdout",
          "text": [
            "736/743 [============================>.] - ETA: 0s - loss: 2.7106e-05 - accuracy: 0.0015\n",
            "Epoch 2: val_loss improved from 0.00026 to 0.00023, saving model to ./model.h5\n",
            "743/743 [==============================] - 4s 5ms/step - loss: 2.7109e-05 - accuracy: 0.0016 - val_loss: 2.2676e-04 - val_accuracy: 5.3967e-04\n",
            "Epoch 3/3\n",
            "743/743 [==============================] - ETA: 0s - loss: 2.8515e-05 - accuracy: 0.0016\n",
            "Epoch 3: val_loss did not improve from 0.00023\n",
            "743/743 [==============================] - 6s 7ms/step - loss: 2.8515e-05 - accuracy: 0.0016 - val_loss: 7.0958e-04 - val_accuracy: 5.3967e-04\n"
          ]
        }
      ],
      "source": [
        "hist = model.fit(\n",
        "                  x_train, y_train,                        # 입력 / 라벨\n",
        "                  epochs = 3, batch_size = 10,            # 학습 회수 / 학습 10번 후 오차 감소\n",
        "                  validation_data=(x_test, y_test),        # 검증 데이터\n",
        "                  callbacks = [model_checkpoint, early_stopping] # 저장 및 모니터링\n",
        "                 )"
      ]
    },
    {
      "cell_type": "code",
      "execution_count": 14,
      "metadata": {
        "colab": {
          "base_uri": "https://localhost:8080/"
        },
        "id": "UpvkW8kNc6s3",
        "outputId": "8be614b2-47bc-4de2-9249-182846a5c032"
      },
      "outputs": [
        {
          "output_type": "stream",
          "name": "stdout",
          "text": [
            "58/58 [==============================] - 0s 4ms/step - loss: 7.0958e-04 - accuracy: 5.3967e-04\n",
            "58/58 [==============================] - 1s 2ms/step\n",
            "0.020960502\n",
            "0.00070957927\n",
            "0.026637929123802872\n"
          ]
        }
      ],
      "source": [
        "model.evaluate(x_test, y_test) # 모델 평가\n",
        "\n",
        "# 테스트 데이터 입력하여 예측값 구하기\n",
        "predict = model.predict(x_test)\n",
        "\n",
        "# 테스트 세트에 대한 평균 절댓값 오차\n",
        "mae = mean_absolute_error(y_test, predict)\n",
        "mse = mean_squared_error(y_test, predict)\n",
        "rmse = mse**0.5\n",
        "print(mae)\n",
        "print(mse)\n",
        "print(rmse)"
      ]
    },
    {
      "cell_type": "markdown",
      "metadata": {
        "id": "Ia6R7KrBO8qe"
      },
      "source": [
        "## LSTM_3 모델"
      ]
    },
    {
      "cell_type": "code",
      "execution_count": 15,
      "metadata": {
        "colab": {
          "base_uri": "https://localhost:8080/"
        },
        "id": "Jmz6UKUkdDrT",
        "outputId": "667991b8-88c4-404d-c270-f6423ed1fb42"
      },
      "outputs": [
        {
          "output_type": "stream",
          "name": "stdout",
          "text": [
            "Model: \"sequential_2\"\n",
            "_________________________________________________________________\n",
            " Layer (type)                Output Shape              Param #   \n",
            "=================================================================\n",
            " lstm_2 (LSTM)               (None, 5, 64)             17920     \n",
            "                                                                 \n",
            " lstm_3 (LSTM)               (None, 64)                33024     \n",
            "                                                                 \n",
            " dense_3 (Dense)             (None, 128)               8320      \n",
            "                                                                 \n",
            " dense_4 (Dense)             (None, 1)                 129       \n",
            "                                                                 \n",
            "=================================================================\n",
            "Total params: 59393 (232.00 KB)\n",
            "Trainable params: 59393 (232.00 KB)\n",
            "Non-trainable params: 0 (0.00 Byte)\n",
            "_________________________________________________________________\n"
          ]
        }
      ],
      "source": [
        "model = Sequential()\n",
        "model.add(LSTM(64, input_shape=(5, 5), return_sequences=True))\n",
        "model.add(LSTM(64))                        # RNN 2층 추가\n",
        "model.add(Dense(128, activation='relu'))\n",
        "model.add(Dense(1, activation='linear'))\n",
        "model.summary()"
      ]
    },
    {
      "cell_type": "code",
      "execution_count": 16,
      "metadata": {
        "id": "OyGDrzl_eyrH"
      },
      "outputs": [],
      "source": [
        "model_checkpoint = ModelCheckpoint(filepath =  \"./model.h5\", monitor='val_loss', verbose=1, save_best_only=True)\n",
        "early_stopping = EarlyStopping(monitor = 'val_loss', min_delta = 0, patience = 3)\n",
        "\n",
        "# 모델 학습과정 설정하기\n",
        "model.compile(loss = 'mse', optimizer = optimizers.Adam(0.001), metrics=['accuracy'])"
      ]
    },
    {
      "cell_type": "code",
      "execution_count": 17,
      "metadata": {
        "colab": {
          "base_uri": "https://localhost:8080/"
        },
        "id": "DxsAy887e6QS",
        "outputId": "64438731-f536-4273-e6a8-7b7c3fedcda1"
      },
      "outputs": [
        {
          "output_type": "stream",
          "name": "stdout",
          "text": [
            "Epoch 1/3\n",
            "742/743 [============================>.] - ETA: 0s - loss: 2.0125e-04 - accuracy: 0.0016\n",
            "Epoch 1: val_loss improved from inf to 0.00096, saving model to ./model.h5\n",
            "743/743 [==============================] - 9s 9ms/step - loss: 2.0099e-04 - accuracy: 0.0016 - val_loss: 9.5870e-04 - val_accuracy: 5.3967e-04\n",
            "Epoch 2/3\n",
            " 31/743 [>.............................] - ETA: 3s - loss: 3.1587e-05 - accuracy: 0.0032"
          ]
        },
        {
          "output_type": "stream",
          "name": "stderr",
          "text": [
            "/usr/local/lib/python3.10/dist-packages/keras/src/engine/training.py:3103: UserWarning: You are saving your model as an HDF5 file via `model.save()`. This file format is considered legacy. We recommend using instead the native Keras format, e.g. `model.save('my_model.keras')`.\n",
            "  saving_api.save_model(\n"
          ]
        },
        {
          "output_type": "stream",
          "name": "stdout",
          "text": [
            "734/743 [============================>.] - ETA: 0s - loss: 5.3352e-05 - accuracy: 0.0015\n",
            "Epoch 2: val_loss did not improve from 0.00096\n",
            "743/743 [==============================] - 5s 6ms/step - loss: 5.3151e-05 - accuracy: 0.0016 - val_loss: 0.0026 - val_accuracy: 5.3967e-04\n",
            "Epoch 3/3\n",
            "737/743 [============================>.] - ETA: 0s - loss: 4.0340e-05 - accuracy: 0.0016\n",
            "Epoch 3: val_loss did not improve from 0.00096\n",
            "743/743 [==============================] - 5s 7ms/step - loss: 4.0569e-05 - accuracy: 0.0016 - val_loss: 0.0013 - val_accuracy: 5.3967e-04\n"
          ]
        }
      ],
      "source": [
        "hist = model.fit(\n",
        "                  x_train, y_train,                        # 입력 / 라벨\n",
        "                  epochs = 3, batch_size = 10,            # 학습 회수 / 학습 10번 후 오차 감소\n",
        "                  validation_data=(x_test, y_test),        # 검증 데이터\n",
        "                  callbacks = [model_checkpoint, early_stopping] # 저장 및 모니터링\n",
        "                 )"
      ]
    },
    {
      "cell_type": "code",
      "execution_count": 18,
      "metadata": {
        "colab": {
          "base_uri": "https://localhost:8080/"
        },
        "id": "5ZqwcYF8e8J5",
        "outputId": "c0889b88-935d-451e-d847-6e34e7da4fad"
      },
      "outputs": [
        {
          "output_type": "stream",
          "name": "stdout",
          "text": [
            "58/58 [==============================] - 0s 5ms/step - loss: 0.0013 - accuracy: 5.3967e-04\n",
            "58/58 [==============================] - 1s 4ms/step\n",
            "0.02643754\n",
            "0.0013478262\n",
            "0.03671275271228316\n"
          ]
        }
      ],
      "source": [
        "model.evaluate(x_test, y_test) # 모델 평가\n",
        "\n",
        "# 테스트 데이터 입력하여 예측값 구하기\n",
        "predict = model.predict(x_test)\n",
        "\n",
        "# 테스트 세트에 대한 평균 절댓값 오차\n",
        "mae = mean_absolute_error(y_test, predict)\n",
        "mse = mean_squared_error(y_test, predict)\n",
        "rmse = mse**0.5\n",
        "print(mae)\n",
        "print(mse)\n",
        "print(rmse)"
      ]
    },
    {
      "cell_type": "code",
      "execution_count": 19,
      "metadata": {
        "colab": {
          "base_uri": "https://localhost:8080/",
          "height": 449
        },
        "id": "_Hek9XjhkwSm",
        "outputId": "722f541e-77ce-4bdb-ed8a-9e1e0c0aaac2"
      },
      "outputs": [
        {
          "output_type": "display_data",
          "data": {
            "text/plain": [
              "<Figure size 640x480 with 1 Axes>"
            ],
            "image/png": "[encoded data removed]"
          },
          "metadata": {}
        }
      ],
      "source": [
        "# 그래프 출력\n",
        "import matplotlib.pyplot as plt\n",
        "# 과정 살펴보기\n",
        "plt.plot(hist.history['loss'], 'r', label = 'loss')\n",
        "plt.plot(hist.history['val_loss'], 'b', label = 'val_loss')\n",
        "plt.ylabel('loss')\n",
        "plt.xlabel('epoch')\n",
        "plt.legend(loc='upper left')\n",
        "plt.show()"
      ]
    },
    {
      "cell_type": "code",
      "execution_count": 20,
      "metadata": {
        "colab": {
          "base_uri": "https://localhost:8080/",
          "height": 449
        },
        "id": "mBsZkuzokwSm",
        "outputId": "bc150c0f-87b4-424d-b548-3e908ba73a80"
      },
      "outputs": [
        {
          "output_type": "display_data",
          "data": {
            "text/plain": [
              "<Figure size 640x480 with 1 Axes>"
            ],
            "image/png": "[encoded data removed]"
          },
          "metadata": {}
        }
      ],
      "source": [
        "plt.plot(y_test[ : ], 'r', label = \"real value\")\n",
        "plt.plot(predict[ : ], 'b', label = \"predict value\")\n",
        "plt.xlabel(\"Time Period\")\n",
        "plt.ylabel('power geration')\n",
        "plt.legend(loc='upper left')\n",
        "plt.show()"
      ]
    }
  ],
  "metadata": {
    "accelerator": "GPU",
    "colab": {
      "provenance": []
    },
    "gpuClass": "standard",
    "kernelspec": {
      "display_name": "Python 3",
      "language": "python",
      "name": "python3"
    },
    "language_info": {
      "codemirror_mode": {
        "name": "ipython",
        "version": 3
      },
      "file_extension": ".py",
      "mimetype": "text/x-python",
      "name": "python",
      "nbconvert_exporter": "python",
      "pygments_lexer": "ipython3",
      "version": "3.6.12"
    }
  },
  "nbformat": 4,
  "nbformat_minor": 0
}