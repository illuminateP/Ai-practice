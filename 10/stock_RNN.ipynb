{
  "cells": [
    {
      "cell_type": "code",
      "execution_count": 1,
      "metadata": {
        "id": "t9aMbSVMkwSh"
      },
      "outputs": [],
      "source": [
        "from keras.models import Sequential\n",
        "from keras.layers import Dense\n",
        "from keras.layers import SimpleRNN, LSTM\n",
        "from keras import optimizers\n",
        "from keras.callbacks import EarlyStopping\n",
        "from keras.callbacks import ModelCheckpoint\n",
        "import tensorflow as tf\n",
        "import numpy as np\n",
        "\n",
        "from sklearn.metrics import mean_absolute_error        # 평균 절대값 에러(모델 평가 지수)\n",
        "from sklearn.metrics import mean_squared_error         # 평균 제곱근 에러(모델 평가 지수)"
      ]
    },
    {
      "cell_type": "code",
      "source": [
        "from google.colab import drive\n",
        "drive.mount('/content/drive')"
      ],
      "metadata": {
        "colab": {
          "base_uri": "https://localhost:8080/"
        },
        "id": "qEB3zZ8OlBFw",
        "outputId": "6403ab34-3ac5-4294-cd3b-6d9d14a2bbb0"
      },
      "execution_count": 2,
      "outputs": [
        {
          "output_type": "stream",
          "name": "stdout",
          "text": [
            "Mounted at /content/drive\n"
          ]
        }
      ]
    },
    {
      "cell_type": "code",
      "execution_count": 3,
      "metadata": {
        "colab": {
          "base_uri": "https://localhost:8080/"
        },
        "id": "1YPVU5V8kwSj",
        "outputId": "63c51b1a-0e67-45cb-aeaf-1673b239679f"
      },
      "outputs": [
        {
          "output_type": "stream",
          "name": "stdout",
          "text": [
            "(9288, 5)\n",
            "7430.400000000001\n"
          ]
        }
      ],
      "source": [
        "filename = '/content/drive/MyDrive/Colab Notebooks/10주차/data/stock.csv'\n",
        "data = np.loadtxt(filename, delimiter=',', dtype=np.float32)\n",
        "# 정규화\n",
        "data = (data - np.min(data, 0)) / (np.max(data, 0) - np.min(data, 0))\n",
        "\n",
        "print(data.shape)\n",
        "print(len(data) * 0.8)    # 데이터 나누기 위해서"
      ]
    },
    {
      "cell_type": "code",
      "source": [
        "x_data = []                         # 입력데이터 리스트\n",
        "y_data = []                         # 출력데이터 리스트\n",
        "\n",
        "for i in range(0, len(data) - 5) :   # 9288 - 5\n",
        "    x = data[i  :  i + 5,  :  ]        # 0 – 4 / 1 - 5 / 2 - 6 /...........\n",
        "    y = data[i + 5, [-1]]            # 5      / 6      / 7     / .........\n",
        "    x_data.append(x)\n",
        "    y_data.append(y)\n",
        "\n",
        "x_data = np.array(x_data)       # 리스트를 배열로 ..\n",
        "y_data = np.array(y_data)\n",
        "\n",
        "print(x_data.shape) # 샘플 수 ,타임 스탬프 수 , 입력 벡터 수\n",
        "print(y_data.shape)"
      ],
      "metadata": {
        "id": "A_8qyoe_Tj3Z",
        "colab": {
          "base_uri": "https://localhost:8080/"
        },
        "outputId": "1d5e4d88-ff71-41c3-9894-cc69ba3b05ed"
      },
      "execution_count": 4,
      "outputs": [
        {
          "output_type": "stream",
          "name": "stdout",
          "text": [
            "(9283, 5, 5)\n",
            "(9283, 1)\n"
          ]
        }
      ]
    },
    {
      "cell_type": "code",
      "source": [
        "print(x_data[0])                #  첫번쩨 입력 데이타\n",
        "print(y_data[0])                # 첫번째 리벨"
      ],
      "metadata": {
        "colab": {
          "base_uri": "https://localhost:8080/"
        },
        "id": "lxPlIRwoTz4B",
        "outputId": "0b0b2933-90af-4dbf-a0dd-867c676709ae"
      },
      "execution_count": 5,
      "outputs": [
        {
          "output_type": "stream",
          "name": "stdout",
          "text": [
            "[[0.00024397 0.00024389 0.00024715 0.00034218 0.00022765]\n",
            " [0.00022654 0.00022647 0.0002295  0.00033218 0.00021014]\n",
            " [0.00022654 0.00024389 0.0002295  0.00236327 0.00022765]\n",
            " [0.00022654 0.00022647 0.00021185 0.00258739 0.00019263]\n",
            " [0.00017426 0.0001742  0.00012358 0.00099453 0.00012258]]\n",
            "[0.0001401]\n"
          ]
        }
      ]
    },
    {
      "cell_type": "code",
      "source": [
        "x_train = x_data[ : 7430]\n",
        "y_train = y_data[ : 7430]\n",
        "print(x_train.shape)\n",
        "print(y_train.shape)\n",
        "x_test = x_data[7430 : ]\n",
        "y_test = y_data[7430 : ]\n",
        "print(x_test.shape)\n",
        "print(y_test.shape)"
      ],
      "metadata": {
        "colab": {
          "base_uri": "https://localhost:8080/"
        },
        "id": "OqiiXq21T6wR",
        "outputId": "093bfbd2-c90d-4351-c600-38d3585e5f41"
      },
      "execution_count": 6,
      "outputs": [
        {
          "output_type": "stream",
          "name": "stdout",
          "text": [
            "(7430, 5, 5)\n",
            "(7430, 1)\n",
            "(1853, 5, 5)\n",
            "(1853, 1)\n"
          ]
        }
      ]
    },
    {
      "cell_type": "markdown",
      "source": [
        "## RNN_1 모델"
      ],
      "metadata": {
        "id": "AbXbPvhzOx5w"
      }
    },
    {
      "cell_type": "code",
      "execution_count": 7,
      "metadata": {
        "colab": {
          "base_uri": "https://localhost:8080/"
        },
        "id": "0vMHL56hkwSl",
        "outputId": "56e7ffc6-af30-4736-e367-b1465e83016e"
      },
      "outputs": [
        {
          "output_type": "stream",
          "name": "stdout",
          "text": [
            "Model: \"sequential\"\n",
            "_________________________________________________________________\n",
            " Layer (type)                Output Shape              Param #   \n",
            "=================================================================\n",
            " simple_rnn (SimpleRNN)      (None, 16)                352       \n",
            "                                                                 \n",
            " dense (Dense)               (None, 1)                 17        \n",
            "                                                                 \n",
            "=================================================================\n",
            "Total params: 369 (1.44 KB)\n",
            "Trainable params: 369 (1.44 KB)\n",
            "Non-trainable params: 0 (0.00 Byte)\n",
            "_________________________________________________________________\n",
            "Total params : 369\n"
          ]
        }
      ],
      "source": [
        "model = Sequential()\n",
        "model.add(SimpleRNN(16, input_shape=(5, 5)))\n",
        "model.add(Dense(1, activation='linear'))\n",
        "model.summary()\n",
        "\n",
        "print(f\"Total params : {(16*16)+(5*16) + 16 + (16 * 1) + 1}\")"
      ]
    },
    {
      "cell_type": "code",
      "source": [
        "model_checkpoint = ModelCheckpoint(filepath =  \"./model.h5\", monitor='val_loss', verbose=1, save_best_only=True)\n",
        "early_stopping = EarlyStopping(monitor = 'val_loss', min_delta = 0, patience = 3)\n",
        "\n",
        "# 모델 학습과정 설정하기\n",
        "model.compile(loss = 'mse', optimizer = optimizers.Adam(0.001), metrics=['accuracy'])"
      ],
      "metadata": {
        "id": "5sjv4-cxRbdN"
      },
      "execution_count": 8,
      "outputs": []
    },
    {
      "cell_type": "code",
      "source": [
        "hist = model.fit(\n",
        "                  x_train, y_train,                        # 입력 / 라벨\n",
        "                  epochs = 3, batch_size = 10,            # 학습 회수 / 학습 10번 후 오차 감소\n",
        "                  validation_data=(x_test, y_test),        # 검증 데이터\n",
        "                  callbacks = [model_checkpoint, early_stopping] # 저장 및 모니터링\n",
        "                 )"
      ],
      "metadata": {
        "colab": {
          "base_uri": "https://localhost:8080/"
        },
        "id": "Q5gu1CqTVq3k",
        "outputId": "a0b605bf-8a21-41d1-ec6a-17e40486f8f3"
      },
      "execution_count": 9,
      "outputs": [
        {
          "output_type": "stream",
          "name": "stdout",
          "text": [
            "Epoch 1/3\n",
            "741/743 [============================>.] - ETA: 0s - loss: 1.0397e-04 - accuracy: 0.0016\n",
            "Epoch 1: val_loss improved from inf to 0.00374, saving model to ./model.h5\n",
            "743/743 [==============================] - 6s 5ms/step - loss: 1.0373e-04 - accuracy: 0.0016 - val_loss: 0.0037 - val_accuracy: 5.3967e-04\n",
            "Epoch 2/3\n",
            " 42/743 [>.............................] - ETA: 2s - loss: 3.2086e-05 - accuracy: 0.0024    "
          ]
        },
        {
          "output_type": "stream",
          "name": "stderr",
          "text": [
            "/usr/local/lib/python3.10/dist-packages/keras/src/engine/training.py:3103: UserWarning: You are saving your model as an HDF5 file via `model.save()`. This file format is considered legacy. We recommend using instead the native Keras format, e.g. `model.save('my_model.keras')`.\n",
            "  saving_api.save_model(\n"
          ]
        },
        {
          "output_type": "stream",
          "name": "stdout",
          "text": [
            "735/743 [============================>.] - ETA: 0s - loss: 2.7872e-05 - accuracy: 0.0016\n",
            "Epoch 2: val_loss improved from 0.00374 to 0.00201, saving model to ./model.h5\n",
            "743/743 [==============================] - 5s 6ms/step - loss: 2.7727e-05 - accuracy: 0.0016 - val_loss: 0.0020 - val_accuracy: 5.3967e-04\n",
            "Epoch 3/3\n",
            "731/743 [============================>.] - ETA: 0s - loss: 2.2951e-05 - accuracy: 0.0014\n",
            "Epoch 3: val_loss improved from 0.00201 to 0.00075, saving model to ./model.h5\n",
            "743/743 [==============================] - 4s 5ms/step - loss: 2.3200e-05 - accuracy: 0.0016 - val_loss: 7.5313e-04 - val_accuracy: 5.3967e-04\n"
          ]
        }
      ]
    },
    {
      "cell_type": "code",
      "execution_count": 10,
      "metadata": {
        "id": "soaCHtiLkwSm",
        "colab": {
          "base_uri": "https://localhost:8080/"
        },
        "outputId": "0e061307-5385-4593-e3fc-a17b80b089d0"
      },
      "outputs": [
        {
          "output_type": "stream",
          "name": "stdout",
          "text": [
            "58/58 [==============================] - 1s 10ms/step - loss: 7.5313e-04 - accuracy: 5.3967e-04\n",
            "58/58 [==============================] - 1s 5ms/step\n",
            "0.019418856\n",
            "0.0007531346\n",
            "0.02744329800652192\n"
          ]
        }
      ],
      "source": [
        "model.evaluate(x_test, y_test) # 모델 평가\n",
        "\n",
        "# 테스트 데이터 입력하여 예측값 구하기\n",
        "predict = model.predict(x_test)\n",
        "\n",
        "# 테스트 세트에 대한 평균 절댓값 오차\n",
        "mae = mean_absolute_error(y_test, predict)\n",
        "mse = mean_squared_error(y_test, predict)\n",
        "rmse = mse**0.5\n",
        "print(mae)\n",
        "print(mse)\n",
        "print(rmse)"
      ]
    },
    {
      "cell_type": "markdown",
      "source": [
        "## RNN_2 모델"
      ],
      "metadata": {
        "id": "WTecDeSiO4ru"
      }
    },
    {
      "cell_type": "code",
      "source": [
        "model = Sequential()\n",
        "model.add(SimpleRNN(64, input_shape=(5, 5)))\n",
        "model.add(Dense(128, activation='relu'))        # Dense 층 추가\n",
        "model.add(Dense(1, activation='linear'))\n",
        "model.summary()\n",
        "print(f\"Total params : {(64 * 64) + (5 * 64) + 64 + (64 * 128) + 128 + (128 * 1) +1}\")"
      ],
      "metadata": {
        "colab": {
          "base_uri": "https://localhost:8080/"
        },
        "id": "IuGbiPjda60v",
        "outputId": "1645d052-89a1-4f4d-f008-7afbe57eb5b7"
      },
      "execution_count": 11,
      "outputs": [
        {
          "output_type": "stream",
          "name": "stdout",
          "text": [
            "Model: \"sequential_1\"\n",
            "_________________________________________________________________\n",
            " Layer (type)                Output Shape              Param #   \n",
            "=================================================================\n",
            " simple_rnn_1 (SimpleRNN)    (None, 64)                4480      \n",
            "                                                                 \n",
            " dense_1 (Dense)             (None, 128)               8320      \n",
            "                                                                 \n",
            " dense_2 (Dense)             (None, 1)                 129       \n",
            "                                                                 \n",
            "=================================================================\n",
            "Total params: 12929 (50.50 KB)\n",
            "Trainable params: 12929 (50.50 KB)\n",
            "Non-trainable params: 0 (0.00 Byte)\n",
            "_________________________________________________________________\n",
            "Total params : 12929\n"
          ]
        }
      ]
    },
    {
      "cell_type": "code",
      "source": [
        "model_checkpoint = ModelCheckpoint(filepath =  \"./model.h5\", monitor='val_loss', verbose=1, save_best_only=True)\n",
        "early_stopping = EarlyStopping(monitor = 'val_loss', min_delta = 0, patience = 3)\n",
        "\n",
        "# 모델 학습과정 설정하기\n",
        "model.compile(loss = 'mse', optimizer = optimizers.Adam(0.001), metrics=['accuracy'])"
      ],
      "metadata": {
        "id": "JIP0MQbicyDt"
      },
      "execution_count": 12,
      "outputs": []
    },
    {
      "cell_type": "code",
      "source": [
        "hist = model.fit(\n",
        "                  x_train, y_train,                        # 입력 / 라벨\n",
        "                  epochs = 3, batch_size = 10,            # 학습 회수 / 학습 10번 후 오차 감소\n",
        "                  validation_data=(x_test, y_test),        # 검증 데이터\n",
        "                  callbacks = [model_checkpoint, early_stopping] # 저장 및 모니터링\n",
        "                 )"
      ],
      "metadata": {
        "colab": {
          "base_uri": "https://localhost:8080/"
        },
        "id": "lM0R9baYcilq",
        "outputId": "8d9832c4-bb10-4109-e9f5-f2e7fd4d1986"
      },
      "execution_count": 13,
      "outputs": [
        {
          "output_type": "stream",
          "name": "stdout",
          "text": [
            "Epoch 1/3\n",
            "734/743 [============================>.] - ETA: 0s - loss: 7.8595e-05 - accuracy: 0.0016\n",
            "Epoch 1: val_loss improved from inf to 0.00180, saving model to ./model.h5\n",
            "743/743 [==============================] - 8s 5ms/step - loss: 7.8139e-05 - accuracy: 0.0016 - val_loss: 0.0018 - val_accuracy: 5.3967e-04\n",
            "Epoch 2/3\n",
            " 40/743 [>.............................] - ETA: 2s - loss: 1.6879e-05 - accuracy: 0.0025"
          ]
        },
        {
          "output_type": "stream",
          "name": "stderr",
          "text": [
            "/usr/local/lib/python3.10/dist-packages/keras/src/engine/training.py:3103: UserWarning: You are saving your model as an HDF5 file via `model.save()`. This file format is considered legacy. We recommend using instead the native Keras format, e.g. `model.save('my_model.keras')`.\n",
            "  saving_api.save_model(\n"
          ]
        },
        {
          "output_type": "stream",
          "name": "stdout",
          "text": [
            "733/743 [============================>.] - ETA: 0s - loss: 3.2078e-05 - accuracy: 0.0016\n",
            "Epoch 2: val_loss improved from 0.00180 to 0.00107, saving model to ./model.h5\n",
            "743/743 [==============================] - 4s 5ms/step - loss: 3.1997e-05 - accuracy: 0.0016 - val_loss: 0.0011 - val_accuracy: 5.3967e-04\n",
            "Epoch 3/3\n",
            "738/743 [============================>.] - ETA: 0s - loss: 2.2826e-05 - accuracy: 0.0016\n",
            "Epoch 3: val_loss improved from 0.00107 to 0.00067, saving model to ./model.h5\n",
            "743/743 [==============================] - 5s 6ms/step - loss: 2.2714e-05 - accuracy: 0.0016 - val_loss: 6.6987e-04 - val_accuracy: 5.3967e-04\n"
          ]
        }
      ]
    },
    {
      "cell_type": "code",
      "source": [
        "model.evaluate(x_test, y_test) # 모델 평가\n",
        "\n",
        "# 테스트 데이터 입력하여 예측값 구하기\n",
        "predict = model.predict(x_test)\n",
        "\n",
        "# 테스트 세트에 대한 평균 절댓값 오차\n",
        "mae = mean_absolute_error(y_test, predict)\n",
        "mse = mean_squared_error(y_test, predict)\n",
        "rmse = mse**0.5\n",
        "print(mae)\n",
        "print(mse)\n",
        "print(rmse)"
      ],
      "metadata": {
        "colab": {
          "base_uri": "https://localhost:8080/"
        },
        "id": "UpvkW8kNc6s3",
        "outputId": "5196701d-6d54-430b-e2e1-2c149e5f325d"
      },
      "execution_count": 14,
      "outputs": [
        {
          "output_type": "stream",
          "name": "stdout",
          "text": [
            "58/58 [==============================] - 0s 5ms/step - loss: 6.6987e-04 - accuracy: 5.3967e-04\n",
            "58/58 [==============================] - 1s 3ms/step\n",
            "0.019465646\n",
            "0.00066987454\n",
            "0.025881934663527936\n"
          ]
        }
      ]
    },
    {
      "cell_type": "markdown",
      "source": [
        "## RNN_3 모델"
      ],
      "metadata": {
        "id": "Ia6R7KrBO8qe"
      }
    },
    {
      "cell_type": "code",
      "source": [
        "model = Sequential()\n",
        "model.add(SimpleRNN(64, input_shape=(5, 5), return_sequences=True))\n",
        "model.add(SimpleRNN(64))                        # RNN 2층 추가\n",
        "model.add(Dense(128, activation='relu'))\n",
        "model.add(Dense(1, activation='linear'))\n",
        "model.summary()\n",
        "\n",
        "print(f\"Total params : {(64 * 64) + (5 * 64) + 64 + (64*64) + 64 + (64 * 128 ) + (128 * 1) + 1}\")"
      ],
      "metadata": {
        "colab": {
          "base_uri": "https://localhost:8080/"
        },
        "id": "Jmz6UKUkdDrT",
        "outputId": "70e4a460-3dd5-43fa-e018-684a433abf6b"
      },
      "execution_count": 15,
      "outputs": [
        {
          "output_type": "stream",
          "name": "stdout",
          "text": [
            "Model: \"sequential_2\"\n",
            "_________________________________________________________________\n",
            " Layer (type)                Output Shape              Param #   \n",
            "=================================================================\n",
            " simple_rnn_2 (SimpleRNN)    (None, 5, 64)             4480      \n",
            "                                                                 \n",
            " simple_rnn_3 (SimpleRNN)    (None, 64)                8256      \n",
            "                                                                 \n",
            " dense_3 (Dense)             (None, 128)               8320      \n",
            "                                                                 \n",
            " dense_4 (Dense)             (None, 1)                 129       \n",
            "                                                                 \n",
            "=================================================================\n",
            "Total params: 21185 (82.75 KB)\n",
            "Trainable params: 21185 (82.75 KB)\n",
            "Non-trainable params: 0 (0.00 Byte)\n",
            "_________________________________________________________________\n",
            "Total params : 16961\n"
          ]
        }
      ]
    },
    {
      "cell_type": "code",
      "source": [
        "model_checkpoint = ModelCheckpoint(filepath =  \"./model.h5\", monitor='val_loss', verbose=1, save_best_only=True)\n",
        "early_stopping = EarlyStopping(monitor = 'val_loss', min_delta = 0, patience = 3)\n",
        "\n",
        "# 모델 학습과정 설정하기\n",
        "model.compile(loss = 'mse', optimizer = optimizers.Adam(0.0001), metrics=['accuracy'])"
      ],
      "metadata": {
        "id": "OyGDrzl_eyrH"
      },
      "execution_count": 16,
      "outputs": []
    },
    {
      "cell_type": "code",
      "source": [
        "hist = model.fit(\n",
        "                  x_train, y_train,                        # 입력 / 라벨\n",
        "                  epochs = 3, batch_size = 10,            # 학습 회수 / 학습 10번 후 오차 감소\n",
        "                  validation_data=(x_test, y_test),        # 검증 데이터\n",
        "                  callbacks = [model_checkpoint, early_stopping] # 저장 및 모니터링\n",
        "                 )"
      ],
      "metadata": {
        "colab": {
          "base_uri": "https://localhost:8080/"
        },
        "id": "DxsAy887e6QS",
        "outputId": "c8b9518c-277b-4228-9847-ece3358bb553"
      },
      "execution_count": 17,
      "outputs": [
        {
          "output_type": "stream",
          "name": "stdout",
          "text": [
            "Epoch 1/3\n",
            "741/743 [============================>.] - ETA: 0s - loss: 8.6244e-05 - accuracy: 0.0016\n",
            "Epoch 1: val_loss improved from inf to 0.00784, saving model to ./model.h5\n",
            "743/743 [==============================] - 13s 14ms/step - loss: 8.6103e-05 - accuracy: 0.0016 - val_loss: 0.0078 - val_accuracy: 5.3967e-04\n",
            "Epoch 2/3\n",
            " 13/743 [..............................] - ETA: 6s - loss: 3.1946e-05 - accuracy: 0.0000e+00"
          ]
        },
        {
          "output_type": "stream",
          "name": "stderr",
          "text": [
            "/usr/local/lib/python3.10/dist-packages/keras/src/engine/training.py:3103: UserWarning: You are saving your model as an HDF5 file via `model.save()`. This file format is considered legacy. We recommend using instead the native Keras format, e.g. `model.save('my_model.keras')`.\n",
            "  saving_api.save_model(\n"
          ]
        },
        {
          "output_type": "stream",
          "name": "stdout",
          "text": [
            "742/743 [============================>.] - ETA: 0s - loss: 3.4927e-05 - accuracy: 0.0016\n",
            "Epoch 2: val_loss improved from 0.00784 to 0.00660, saving model to ./model.h5\n",
            "743/743 [==============================] - 7s 9ms/step - loss: 3.4889e-05 - accuracy: 0.0016 - val_loss: 0.0066 - val_accuracy: 5.3967e-04\n",
            "Epoch 3/3\n",
            "742/743 [============================>.] - ETA: 0s - loss: 3.3075e-05 - accuracy: 0.0016\n",
            "Epoch 3: val_loss improved from 0.00660 to 0.00379, saving model to ./model.h5\n",
            "743/743 [==============================] - 9s 12ms/step - loss: 3.3112e-05 - accuracy: 0.0016 - val_loss: 0.0038 - val_accuracy: 5.3967e-04\n"
          ]
        }
      ]
    },
    {
      "cell_type": "code",
      "source": [
        "model.evaluate(x_test, y_test) # 모델 평가\n",
        "\n",
        "# 테스트 데이터 입력하여 예측값 구하기\n",
        "predict = model.predict(x_test)\n",
        "\n",
        "# 테스트 세트에 대한 평균 절댓값 오차\n",
        "mae = mean_absolute_error(y_test, predict)\n",
        "mse = mean_squared_error(y_test, predict)\n",
        "rmse = mse**0.5\n",
        "print(mae)\n",
        "print(mse)\n",
        "print(rmse)"
      ],
      "metadata": {
        "colab": {
          "base_uri": "https://localhost:8080/"
        },
        "id": "5ZqwcYF8e8J5",
        "outputId": "fbae9f85-b78b-4079-d5e3-5a727a495962"
      },
      "execution_count": 18,
      "outputs": [
        {
          "output_type": "stream",
          "name": "stdout",
          "text": [
            "58/58 [==============================] - 0s 3ms/step - loss: 0.0038 - accuracy: 5.3967e-04\n",
            "58/58 [==============================] - 0s 3ms/step\n",
            "0.04134475\n",
            "0.0037946173\n",
            "0.061600464709483806\n"
          ]
        }
      ]
    },
    {
      "cell_type": "code",
      "execution_count": 19,
      "metadata": {
        "colab": {
          "base_uri": "https://localhost:8080/",
          "height": 449
        },
        "id": "_Hek9XjhkwSm",
        "outputId": "b1bdfdcd-d46e-4ad8-eea9-834a9505ffbf"
      },
      "outputs": [
        {
          "output_type": "display_data",
          "data": {
            "text/plain": [
              "<Figure size 640x480 with 1 Axes>"
            ],
            "image/png": "[encoded data removed]"
          },
          "metadata": {}
        }
      ],
      "source": [
        "# 그래프 출력\n",
        "import matplotlib.pyplot as plt\n",
        "# 과정 살펴보기\n",
        "plt.plot(hist.history['loss'], 'r', label = 'loss')\n",
        "plt.plot(hist.history['val_loss'], 'b', label = 'val_loss')\n",
        "plt.ylabel('loss')\n",
        "plt.xlabel('epoch')\n",
        "plt.legend(loc='upper left')\n",
        "plt.show()"
      ]
    },
    {
      "cell_type": "code",
      "execution_count": 20,
      "metadata": {
        "colab": {
          "base_uri": "https://localhost:8080/",
          "height": 449
        },
        "id": "mBsZkuzokwSm",
        "outputId": "d9f737a3-aa34-4a4b-a39d-42662832f8af"
      },
      "outputs": [
        {
          "output_type": "display_data",
          "data": {
            "text/plain": [
              "<Figure size 640x480 with 1 Axes>"
            ],
            "image/png": "[encoded data removed]"
          },
          "metadata": {}
        }
      ],
      "source": [
        "plt.plot(y_test[ : ], 'r', label = \"real value\")\n",
        "plt.plot(predict[ : ], 'b', label = \"predict value\")\n",
        "plt.xlabel(\"Time Period\")\n",
        "plt.ylabel('power geration')\n",
        "plt.legend(loc='upper left')\n",
        "plt.show()"
      ]
    }
  ],
  "metadata": {
    "kernelspec": {
      "display_name": "Python 3",
      "language": "python",
      "name": "python3"
    },
    "language_info": {
      "codemirror_mode": {
        "name": "ipython",
        "version": 3
      },
      "file_extension": ".py",
      "mimetype": "text/x-python",
      "name": "python",
      "nbconvert_exporter": "python",
      "pygments_lexer": "ipython3",
      "version": "3.6.12"
    },
    "colab": {
      "provenance": []
    },
    "accelerator": "GPU",
    "gpuClass": "standard"
  },
  "nbformat": 4,
  "nbformat_minor": 0
}