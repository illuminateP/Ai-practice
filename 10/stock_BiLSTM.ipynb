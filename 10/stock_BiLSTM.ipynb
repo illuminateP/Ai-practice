{
  "cells": [
    {
      "cell_type": "code",
      "execution_count": 1,
      "metadata": {
        "id": "t9aMbSVMkwSh"
      },
      "outputs": [],
      "source": [
        "from keras.models import Sequential\n",
        "from keras.layers import Dense\n",
        "from keras.layers import SimpleRNN, LSTM, Bidirectional\n",
        "from keras import optimizers\n",
        "from keras.callbacks import EarlyStopping\n",
        "from keras.callbacks import ModelCheckpoint\n",
        "import tensorflow as tf\n",
        "import numpy as np\n",
        "\n",
        "from sklearn.metrics import mean_absolute_error        # 평균 절대값 에러(모델 평가 지수)\n",
        "from sklearn.metrics import mean_squared_error         # 평균 제곱근 에러(모델 평가 지수)"
      ]
    },
    {
      "cell_type": "code",
      "source": [
        "from google.colab import drive\n",
        "drive.mount('/content/drive')"
      ],
      "metadata": {
        "colab": {
          "base_uri": "https://localhost:8080/"
        },
        "id": "qEB3zZ8OlBFw",
        "outputId": "2dd721d2-74a5-4ad9-ed1a-f01e54ec9416"
      },
      "execution_count": 2,
      "outputs": [
        {
          "output_type": "stream",
          "name": "stdout",
          "text": [
            "Drive already mounted at /content/drive; to attempt to forcibly remount, call drive.mount(\"/content/drive\", force_remount=True).\n"
          ]
        }
      ]
    },
    {
      "cell_type": "code",
      "execution_count": 3,
      "metadata": {
        "colab": {
          "base_uri": "https://localhost:8080/"
        },
        "id": "1YPVU5V8kwSj",
        "outputId": "7a2414cd-c0b6-46ef-d87c-1ce3655acfe4"
      },
      "outputs": [
        {
          "output_type": "stream",
          "name": "stdout",
          "text": [
            "(9288, 5)\n",
            "7430.400000000001\n"
          ]
        }
      ],
      "source": [
        "filename = '/content/drive/MyDrive/Colab Notebooks/10주차/data/stock.csv'\n",
        "data = np.loadtxt(filename, delimiter=',', dtype=np.float32)\n",
        "# 정규화\n",
        "data = (data - np.min(data, 0)) / (np.max(data, 0) - np.min(data, 0))\n",
        "\n",
        "print(data.shape)\n",
        "print(len(data) * 0.8)    # 데이터 나누기 위해서"
      ]
    },
    {
      "cell_type": "code",
      "source": [
        "x_data = []                         # 입력데이터 리스트\n",
        "y_data = []                         # 출력데이터 리스트\n",
        "\n",
        "for i in range(0, len(data) - 5) :   # 9288 - 5\n",
        "    x = data[i  :  i + 5,  :  ]        # 0 – 4 / 1 - 5 / 2 - 6 /...........\n",
        "    y = data[i + 5, [-1]]            # 5      / 6      / 7     / .........\n",
        "    x_data.append(x)\n",
        "    y_data.append(y)\n",
        "\n",
        "x_data = np.array(x_data)       # 리스트를 배열로 ..\n",
        "y_data = np.array(y_data)\n"
      ],
      "metadata": {
        "id": "A_8qyoe_Tj3Z"
      },
      "execution_count": 4,
      "outputs": []
    },
    {
      "cell_type": "code",
      "source": [
        "print(x_data[0])                #  첫번쩨 입력 데이타\n",
        "print(y_data[0])                # 첫번째 리벨"
      ],
      "metadata": {
        "colab": {
          "base_uri": "https://localhost:8080/"
        },
        "id": "lxPlIRwoTz4B",
        "outputId": "88f2d321-d083-45e3-87fc-c559dc584015"
      },
      "execution_count": 5,
      "outputs": [
        {
          "output_type": "stream",
          "name": "stdout",
          "text": [
            "[[0.00024397 0.00024389 0.00024715 0.00034218 0.00022765]\n",
            " [0.00022654 0.00022647 0.0002295  0.00033218 0.00021014]\n",
            " [0.00022654 0.00024389 0.0002295  0.00236327 0.00022765]\n",
            " [0.00022654 0.00022647 0.00021185 0.00258739 0.00019263]\n",
            " [0.00017426 0.0001742  0.00012358 0.00099453 0.00012258]]\n",
            "[0.0001401]\n"
          ]
        }
      ]
    },
    {
      "cell_type": "code",
      "source": [
        "x_train = x_data[ : 7430]\n",
        "y_train = y_data[ : 7430]\n",
        "print(x_train.shape)\n",
        "print(y_train.shape)\n",
        "x_test = x_data[7430 : ]\n",
        "y_test = y_data[7430 : ]\n",
        "print(x_test.shape)\n",
        "print(y_test.shape)"
      ],
      "metadata": {
        "colab": {
          "base_uri": "https://localhost:8080/"
        },
        "id": "OqiiXq21T6wR",
        "outputId": "86363a3a-1c93-4d31-edfd-54cb8c2d16cd"
      },
      "execution_count": 6,
      "outputs": [
        {
          "output_type": "stream",
          "name": "stdout",
          "text": [
            "(7430, 5, 5)\n",
            "(7430, 1)\n",
            "(1853, 5, 5)\n",
            "(1853, 1)\n"
          ]
        }
      ]
    },
    {
      "cell_type": "markdown",
      "source": [
        "## BiLSTM_1 모델"
      ],
      "metadata": {
        "id": "AbXbPvhzOx5w"
      }
    },
    {
      "cell_type": "code",
      "execution_count": 7,
      "metadata": {
        "colab": {
          "base_uri": "https://localhost:8080/"
        },
        "id": "0vMHL56hkwSl",
        "outputId": "0c25df55-9e25-4dbf-cd61-68a147456ea5"
      },
      "outputs": [
        {
          "output_type": "stream",
          "name": "stdout",
          "text": [
            "Model: \"sequential\"\n",
            "_________________________________________________________________\n",
            " Layer (type)                Output Shape              Param #   \n",
            "=================================================================\n",
            " bidirectional (Bidirection  (None, 64)                9728      \n",
            " al)                                                             \n",
            "                                                                 \n",
            " dense (Dense)               (None, 1)                 65        \n",
            "                                                                 \n",
            "=================================================================\n",
            "Total params: 9793 (38.25 KB)\n",
            "Trainable params: 9793 (38.25 KB)\n",
            "Non-trainable params: 0 (0.00 Byte)\n",
            "_________________________________________________________________\n"
          ]
        }
      ],
      "source": [
        "model = Sequential()\n",
        "model.add(Bidirectional(LSTM(32), input_shape=(5, 5)))\n",
        "model.add(Dense(1, activation='linear'))\n",
        "model.summary()"
      ]
    },
    {
      "cell_type": "code",
      "source": [
        "model_checkpoint = ModelCheckpoint(filepath =  \"./model.h5\", monitor='val_loss', verbose=1, save_best_only=True)\n",
        "early_stopping = EarlyStopping(monitor = 'val_loss', min_delta = 0, patience = 3)\n",
        "\n",
        "# 모델 학습과정 설정하기\n",
        "model.compile(loss = 'mse', optimizer = optimizers.Adam(0.001), metrics=['accuracy'])"
      ],
      "metadata": {
        "id": "5sjv4-cxRbdN"
      },
      "execution_count": 8,
      "outputs": []
    },
    {
      "cell_type": "code",
      "source": [
        "hist = model.fit(\n",
        "                  x_train, y_train,                        # 입력 / 라벨\n",
        "                  epochs = 3, batch_size = 10,            # 학습 회수 / 학습 10번 후 오차 감소\n",
        "                  validation_data=(x_test, y_test),        # 검증 데이터\n",
        "                  callbacks = [model_checkpoint, early_stopping] # 저장 및 모니터링\n",
        "                 )"
      ],
      "metadata": {
        "colab": {
          "base_uri": "https://localhost:8080/"
        },
        "id": "Q5gu1CqTVq3k",
        "outputId": "b6dcc508-80ee-4889-b7f0-5d01296c57f8"
      },
      "execution_count": 9,
      "outputs": [
        {
          "output_type": "stream",
          "name": "stdout",
          "text": [
            "Epoch 1/3\n",
            "735/743 [============================>.] - ETA: 0s - loss: 6.5041e-04 - accuracy: 0.0016\n",
            "Epoch 1: val_loss improved from inf to 0.00083, saving model to ./model.h5\n",
            "743/743 [==============================] - 18s 10ms/step - loss: 6.4364e-04 - accuracy: 0.0016 - val_loss: 8.3327e-04 - val_accuracy: 5.3967e-04\n",
            "Epoch 2/3\n",
            " 36/743 [>.............................] - ETA: 3s - loss: 1.7273e-05 - accuracy: 0.0028    "
          ]
        },
        {
          "output_type": "stream",
          "name": "stderr",
          "text": [
            "/usr/local/lib/python3.10/dist-packages/keras/src/engine/training.py:3103: UserWarning: You are saving your model as an HDF5 file via `model.save()`. This file format is considered legacy. We recommend using instead the native Keras format, e.g. `model.save('my_model.keras')`.\n",
            "  saving_api.save_model(\n"
          ]
        },
        {
          "output_type": "stream",
          "name": "stdout",
          "text": [
            "737/743 [============================>.] - ETA: 0s - loss: 2.4394e-05 - accuracy: 0.0016\n",
            "Epoch 2: val_loss did not improve from 0.00083\n",
            "743/743 [==============================] - 5s 7ms/step - loss: 2.4420e-05 - accuracy: 0.0016 - val_loss: 0.0016 - val_accuracy: 5.3967e-04\n",
            "Epoch 3/3\n",
            "732/743 [============================>.] - ETA: 0s - loss: 2.6117e-05 - accuracy: 0.0016\n",
            "Epoch 3: val_loss did not improve from 0.00083\n",
            "743/743 [==============================] - 4s 6ms/step - loss: 2.6015e-05 - accuracy: 0.0016 - val_loss: 0.0012 - val_accuracy: 5.3967e-04\n"
          ]
        }
      ]
    },
    {
      "cell_type": "code",
      "execution_count": 10,
      "metadata": {
        "id": "soaCHtiLkwSm",
        "colab": {
          "base_uri": "https://localhost:8080/"
        },
        "outputId": "8e7d1efa-597b-4c84-929c-98db5a6440c3"
      },
      "outputs": [
        {
          "output_type": "stream",
          "name": "stdout",
          "text": [
            "58/58 [==============================] - 0s 3ms/step - loss: 0.0012 - accuracy: 5.3967e-04\n",
            "58/58 [==============================] - 1s 2ms/step\n",
            "0.024593895\n",
            "0.0012428785\n",
            "0.03525448195021739\n"
          ]
        }
      ],
      "source": [
        "model.evaluate(x_test, y_test) # 모델 평가\n",
        "\n",
        "# 테스트 데이터 입력하여 예측값 구하기\n",
        "predict = model.predict(x_test)\n",
        "\n",
        "# 테스트 세트에 대한 평균 절댓값 오차\n",
        "mae = mean_absolute_error(y_test, predict)\n",
        "mse = mean_squared_error(y_test, predict)\n",
        "rmse = mse**0.5\n",
        "print(mae)\n",
        "print(mse)\n",
        "print(rmse)"
      ]
    },
    {
      "cell_type": "markdown",
      "source": [
        "## BiLSTM_2 모델"
      ],
      "metadata": {
        "id": "WTecDeSiO4ru"
      }
    },
    {
      "cell_type": "code",
      "source": [
        "model = Sequential()\n",
        "model.add(Bidirectional(LSTM(64), input_shape=(5, 5)))\n",
        "model.add(Dense(128, activation='relu'))        # Dense 층 추가\n",
        "model.add(Dense(1, activation='linear'))\n",
        "model.summary()"
      ],
      "metadata": {
        "colab": {
          "base_uri": "https://localhost:8080/"
        },
        "id": "IuGbiPjda60v",
        "outputId": "094404cc-4d9a-43ef-958c-16ca0732d0e0"
      },
      "execution_count": 11,
      "outputs": [
        {
          "output_type": "stream",
          "name": "stdout",
          "text": [
            "Model: \"sequential_1\"\n",
            "_________________________________________________________________\n",
            " Layer (type)                Output Shape              Param #   \n",
            "=================================================================\n",
            " bidirectional_1 (Bidirecti  (None, 128)               35840     \n",
            " onal)                                                           \n",
            "                                                                 \n",
            " dense_1 (Dense)             (None, 128)               16512     \n",
            "                                                                 \n",
            " dense_2 (Dense)             (None, 1)                 129       \n",
            "                                                                 \n",
            "=================================================================\n",
            "Total params: 52481 (205.00 KB)\n",
            "Trainable params: 52481 (205.00 KB)\n",
            "Non-trainable params: 0 (0.00 Byte)\n",
            "_________________________________________________________________\n"
          ]
        }
      ]
    },
    {
      "cell_type": "code",
      "source": [
        "model_checkpoint = ModelCheckpoint(filepath =  \"./model.h5\", monitor='val_loss', verbose=1, save_best_only=True)\n",
        "early_stopping = EarlyStopping(monitor = 'val_loss', min_delta = 0, patience = 3)\n",
        "\n",
        "# 모델 학습과정 설정하기\n",
        "model.compile(loss = 'mse', optimizer = optimizers.Adam(0.001), metrics=['accuracy'])"
      ],
      "metadata": {
        "id": "JIP0MQbicyDt"
      },
      "execution_count": 12,
      "outputs": []
    },
    {
      "cell_type": "code",
      "source": [
        "hist = model.fit(\n",
        "                  x_train, y_train,                        # 입력 / 라벨\n",
        "                  epochs = 3, batch_size = 10,            # 학습 회수 / 학습 10번 후 오차 감소\n",
        "                  validation_data=(x_test, y_test),        # 검증 데이터\n",
        "                  callbacks = [model_checkpoint, early_stopping] # 저장 및 모니터링\n",
        "                 )"
      ],
      "metadata": {
        "colab": {
          "base_uri": "https://localhost:8080/"
        },
        "id": "lM0R9baYcilq",
        "outputId": "7a93bda7-ac53-4fe0-e8bb-909fa6f0c2cd"
      },
      "execution_count": 13,
      "outputs": [
        {
          "output_type": "stream",
          "name": "stdout",
          "text": [
            "Epoch 1/3\n",
            "738/743 [============================>.] - ETA: 0s - loss: 1.8809e-04 - accuracy: 0.0016\n",
            "Epoch 1: val_loss improved from inf to 0.00028, saving model to ./model.h5\n",
            "743/743 [==============================] - 10s 8ms/step - loss: 1.8723e-04 - accuracy: 0.0016 - val_loss: 2.7647e-04 - val_accuracy: 5.3967e-04\n",
            "Epoch 2/3\n",
            " 32/743 [>.............................] - ETA: 3s - loss: 3.9517e-05 - accuracy: 0.0000e+00"
          ]
        },
        {
          "output_type": "stream",
          "name": "stderr",
          "text": [
            "/usr/local/lib/python3.10/dist-packages/keras/src/engine/training.py:3103: UserWarning: You are saving your model as an HDF5 file via `model.save()`. This file format is considered legacy. We recommend using instead the native Keras format, e.g. `model.save('my_model.keras')`.\n",
            "  saving_api.save_model(\n"
          ]
        },
        {
          "output_type": "stream",
          "name": "stdout",
          "text": [
            "743/743 [==============================] - ETA: 0s - loss: 2.7766e-05 - accuracy: 0.0016\n",
            "Epoch 2: val_loss improved from 0.00028 to 0.00025, saving model to ./model.h5\n",
            "743/743 [==============================] - 4s 6ms/step - loss: 2.7766e-05 - accuracy: 0.0016 - val_loss: 2.5113e-04 - val_accuracy: 5.3967e-04\n",
            "Epoch 3/3\n",
            "739/743 [============================>.] - ETA: 0s - loss: 2.9952e-05 - accuracy: 0.0016\n",
            "Epoch 3: val_loss did not improve from 0.00025\n",
            "743/743 [==============================] - 4s 6ms/step - loss: 2.9915e-05 - accuracy: 0.0016 - val_loss: 4.0172e-04 - val_accuracy: 5.3967e-04\n"
          ]
        }
      ]
    },
    {
      "cell_type": "code",
      "source": [
        "model.evaluate(x_test, y_test) # 모델 평가\n",
        "\n",
        "# 테스트 데이터 입력하여 예측값 구하기\n",
        "predict = model.predict(x_test)\n",
        "\n",
        "# 테스트 세트에 대한 평균 절댓값 오차\n",
        "mae = mean_absolute_error(y_test, predict)\n",
        "mse = mean_squared_error(y_test, predict)\n",
        "rmse = mse**0.5\n",
        "print(mae)\n",
        "print(mse)\n",
        "print(rmse)"
      ],
      "metadata": {
        "colab": {
          "base_uri": "https://localhost:8080/"
        },
        "id": "UpvkW8kNc6s3",
        "outputId": "6ca62a30-8196-4f29-8725-ed1a0e33e293"
      },
      "execution_count": 14,
      "outputs": [
        {
          "output_type": "stream",
          "name": "stdout",
          "text": [
            "58/58 [==============================] - 0s 3ms/step - loss: 4.0172e-04 - accuracy: 5.3967e-04\n",
            "58/58 [==============================] - 1s 3ms/step\n",
            "0.014488652\n",
            "0.0004017237\n",
            "0.020043046009970155\n"
          ]
        }
      ]
    },
    {
      "cell_type": "markdown",
      "source": [
        "## BiLSTM_3 모델"
      ],
      "metadata": {
        "id": "Ia6R7KrBO8qe"
      }
    },
    {
      "cell_type": "code",
      "source": [
        "model = Sequential()\n",
        "model.add(Bidirectional(LSTM(64, return_sequences=True), input_shape=(5, 5)))\n",
        "model.add(Bidirectional(LSTM(64)))\n",
        "model.add(Dense(128, activation='relu'))\n",
        "model.add(Dense(1, activation='linear'))\n",
        "model.summary()"
      ],
      "metadata": {
        "colab": {
          "base_uri": "https://localhost:8080/"
        },
        "id": "Jmz6UKUkdDrT",
        "outputId": "83be897a-0cd2-4c12-de45-d4da26e4ecb5"
      },
      "execution_count": 15,
      "outputs": [
        {
          "output_type": "stream",
          "name": "stdout",
          "text": [
            "Model: \"sequential_2\"\n",
            "_________________________________________________________________\n",
            " Layer (type)                Output Shape              Param #   \n",
            "=================================================================\n",
            " bidirectional_2 (Bidirecti  (None, 5, 128)            35840     \n",
            " onal)                                                           \n",
            "                                                                 \n",
            " bidirectional_3 (Bidirecti  (None, 128)               98816     \n",
            " onal)                                                           \n",
            "                                                                 \n",
            " dense_3 (Dense)             (None, 128)               16512     \n",
            "                                                                 \n",
            " dense_4 (Dense)             (None, 1)                 129       \n",
            "                                                                 \n",
            "=================================================================\n",
            "Total params: 151297 (591.00 KB)\n",
            "Trainable params: 151297 (591.00 KB)\n",
            "Non-trainable params: 0 (0.00 Byte)\n",
            "_________________________________________________________________\n"
          ]
        }
      ]
    },
    {
      "cell_type": "code",
      "source": [
        "model_checkpoint = ModelCheckpoint(filepath =  \"./model.h5\", monitor='val_loss', verbose=1, save_best_only=True)\n",
        "early_stopping = EarlyStopping(monitor = 'val_loss', min_delta = 0, patience = 3)\n",
        "\n",
        "# 모델 학습과정 설정하기\n",
        "model.compile(loss = 'mse', optimizer = optimizers.Adam(0.001), metrics=['accuracy'])"
      ],
      "metadata": {
        "id": "OyGDrzl_eyrH"
      },
      "execution_count": 16,
      "outputs": []
    },
    {
      "cell_type": "code",
      "source": [
        "hist = model.fit(\n",
        "                  x_train, y_train,                        # 입력 / 라벨\n",
        "                  epochs = 3, batch_size = 10,            # 학습 회수 / 학습 10번 후 오차 감소\n",
        "                  validation_data=(x_test, y_test),        # 검증 데이터\n",
        "                  callbacks = [model_checkpoint, early_stopping] # 저장 및 모니터링\n",
        "                 )"
      ],
      "metadata": {
        "colab": {
          "base_uri": "https://localhost:8080/"
        },
        "id": "DxsAy887e6QS",
        "outputId": "758a0f94-ff0f-42ce-ec8d-898496769a02"
      },
      "execution_count": 17,
      "outputs": [
        {
          "output_type": "stream",
          "name": "stdout",
          "text": [
            "Epoch 1/3\n",
            "737/743 [============================>.] - ETA: 0s - loss: 1.1061e-04 - accuracy: 0.0016\n",
            "Epoch 1: val_loss improved from inf to 0.00745, saving model to ./model.h5\n",
            "743/743 [==============================] - 15s 13ms/step - loss: 1.1051e-04 - accuracy: 0.0016 - val_loss: 0.0075 - val_accuracy: 5.3967e-04\n",
            "Epoch 2/3\n",
            " 15/743 [..............................] - ETA: 5s - loss: 8.1355e-05 - accuracy: 0.0000e+00"
          ]
        },
        {
          "output_type": "stream",
          "name": "stderr",
          "text": [
            "/usr/local/lib/python3.10/dist-packages/keras/src/engine/training.py:3103: UserWarning: You are saving your model as an HDF5 file via `model.save()`. This file format is considered legacy. We recommend using instead the native Keras format, e.g. `model.save('my_model.keras')`.\n",
            "  saving_api.save_model(\n"
          ]
        },
        {
          "output_type": "stream",
          "name": "stdout",
          "text": [
            "741/743 [============================>.] - ETA: 0s - loss: 3.9271e-05 - accuracy: 0.0016\n",
            "Epoch 2: val_loss improved from 0.00745 to 0.00090, saving model to ./model.h5\n",
            "743/743 [==============================] - 8s 11ms/step - loss: 3.9240e-05 - accuracy: 0.0016 - val_loss: 9.0319e-04 - val_accuracy: 5.3967e-04\n",
            "Epoch 3/3\n",
            "739/743 [============================>.] - ETA: 0s - loss: 4.2967e-05 - accuracy: 0.0015\n",
            "Epoch 3: val_loss improved from 0.00090 to 0.00071, saving model to ./model.h5\n",
            "743/743 [==============================] - 7s 9ms/step - loss: 4.2789e-05 - accuracy: 0.0016 - val_loss: 7.0773e-04 - val_accuracy: 5.3967e-04\n"
          ]
        }
      ]
    },
    {
      "cell_type": "code",
      "source": [
        "model.evaluate(x_test, y_test) # 모델 평가\n",
        "\n",
        "# 테스트 데이터 입력하여 예측값 구하기\n",
        "predict = model.predict(x_test)\n",
        "\n",
        "# 테스트 세트에 대한 평균 절댓값 오차\n",
        "mae = mean_absolute_error(y_test, predict)\n",
        "mse = mean_squared_error(y_test, predict)\n",
        "rmse = mse**0.5\n",
        "print(mae)\n",
        "print(mse)\n",
        "print(rmse)"
      ],
      "metadata": {
        "colab": {
          "base_uri": "https://localhost:8080/"
        },
        "id": "5ZqwcYF8e8J5",
        "outputId": "d445095f-3134-4035-f3ff-86d499339eb3"
      },
      "execution_count": 18,
      "outputs": [
        {
          "output_type": "stream",
          "name": "stdout",
          "text": [
            "58/58 [==============================] - 0s 4ms/step - loss: 7.0773e-04 - accuracy: 5.3967e-04\n",
            "58/58 [==============================] - 1s 3ms/step\n",
            "0.018674787\n",
            "0.0007077326\n",
            "0.02660324363220779\n"
          ]
        }
      ]
    },
    {
      "cell_type": "code",
      "execution_count": 19,
      "metadata": {
        "colab": {
          "base_uri": "https://localhost:8080/",
          "height": 449
        },
        "id": "_Hek9XjhkwSm",
        "outputId": "c1443497-424d-422c-8424-f60cfa02eb0d"
      },
      "outputs": [
        {
          "output_type": "display_data",
          "data": {
            "text/plain": [
              "<Figure size 640x480 with 1 Axes>"
            ],
            "image/png": "[encoded data removed]"
          },
          "metadata": {}
        }
      ],
      "source": [
        "# 그래프 출력\n",
        "import matplotlib.pyplot as plt\n",
        "# 과정 살펴보기\n",
        "plt.plot(hist.history['loss'], 'r', label = 'loss')\n",
        "plt.plot(hist.history['val_loss'], 'b', label = 'val_loss')\n",
        "plt.ylabel('loss')\n",
        "plt.xlabel('epoch')\n",
        "plt.legend(loc='upper left')\n",
        "plt.show()"
      ]
    },
    {
      "cell_type": "code",
      "execution_count": 20,
      "metadata": {
        "colab": {
          "base_uri": "https://localhost:8080/",
          "height": 449
        },
        "id": "mBsZkuzokwSm",
        "outputId": "bd8b7406-4fa9-4553-e1d5-3e3d131d2dab"
      },
      "outputs": [
        {
          "output_type": "display_data",
          "data": {
            "text/plain": [
              "<Figure size 640x480 with 1 Axes>"
            ],
            "image/png": "[encoded data removed]"
          },
          "metadata": {}
        }
      ],
      "source": [
        "plt.plot(y_test[ : ], 'r', label = \"real value\")\n",
        "plt.plot(predict[ : ], 'b', label = \"predict value\")\n",
        "plt.xlabel(\"Time Period\")\n",
        "plt.ylabel('power geration')\n",
        "plt.legend(loc='upper left')\n",
        "plt.show()"
      ]
    }
  ],
  "metadata": {
    "kernelspec": {
      "display_name": "Python 3",
      "language": "python",
      "name": "python3"
    },
    "language_info": {
      "codemirror_mode": {
        "name": "ipython",
        "version": 3
      },
      "file_extension": ".py",
      "mimetype": "text/x-python",
      "name": "python",
      "nbconvert_exporter": "python",
      "pygments_lexer": "ipython3",
      "version": "3.6.12"
    },
    "colab": {
      "provenance": []
    },
    "accelerator": "GPU",
    "gpuClass": "standard"
  },
  "nbformat": 4,
  "nbformat_minor": 0
}