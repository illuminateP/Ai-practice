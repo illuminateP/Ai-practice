{
  "cells": [
    {
      "cell_type": "markdown",
      "metadata": {
        "id": "vb2hRvluKFE8"
      },
      "source": [
        "# 영암군 Data"
      ]
    },
    {
      "cell_type": "code",
      "execution_count": null,
      "metadata": {
        "id": "_lBx38VHOvTq"
      },
      "outputs": [],
      "source": [
        "import numpy as np                                                 # 넘파이 패키지\n",
        "import pandas as pd                                                 # 판다스 패키지\n",
        "import matplotlib.pyplot as plt                                   # 그래프 패키지\n",
        "from sklearn.model_selection import train_test_split       # 데이터 셋 분할\n",
        "\n",
        "from sklearn.linear_model import LinearRegression        # 선형 회귀 패키지\n",
        "from sklearn.linear_model import Ridge                       # 릿지 선형 회귀 패키지\n",
        "from sklearn.preprocessing import PolynomialFeatures   # 특성 변환기 패키지\n",
        "\n",
        "from sklearn.metrics import mean_absolute_error          # 평균 절대값 에러(모델 평가 지수)\n",
        "from sklearn.metrics import mean_squared_error          # 평균 제곱근 에러(모델 평가 지수)"
      ]
    },
    {
      "cell_type": "code",
      "execution_count": null,
      "metadata": {
        "colab": {
          "base_uri": "https://localhost:8080/"
        },
        "id": "hl3ybT62TQFP",
        "outputId": "63d8ab14-52a3-413f-c69f-4fc4bce9c181"
      },
      "outputs": [
        {
          "name": "stdout",
          "output_type": "stream",
          "text": [
            "Drive already mounted at /content/drive; to attempt to forcibly remount, call drive.mount(\"/content/drive\", force_remount=True).\n"
          ]
        }
      ],
      "source": [
        "# 코랩과 구글 드라이브 연동\n",
        "from google.colab import drive\n",
        "drive.mount('/content/drive')"
      ]
    },
    {
      "cell_type": "code",
      "execution_count": null,
      "metadata": {
        "colab": {
          "base_uri": "https://localhost:8080/"
        },
        "id": "aXH1tiMuTQNG",
        "outputId": "278d08aa-87a1-4788-83c1-0cf8db712250"
      },
      "outputs": [
        {
          "name": "stdout",
          "output_type": "stream",
          "text": [
            "<class 'pandas.core.frame.DataFrame'>\n",
            "RangeIndex: 30624 entries, 0 to 30623\n",
            "Data columns (total 8 columns):\n",
            " #   Column  Non-Null Count  Dtype  \n",
            "---  ------  --------------  -----  \n",
            " 0   기온      30624 non-null  float64\n",
            " 1   풍속      30624 non-null  float64\n",
            " 2   습도      30624 non-null  int64  \n",
            " 3   기압      30624 non-null  float64\n",
            " 4   일조      30624 non-null  float64\n",
            " 5   일사      30624 non-null  float64\n",
            " 6   전운량     30624 non-null  int64  \n",
            " 7   발전량     30624 non-null  float64\n",
            "dtypes: float64(6), int64(2)\n",
            "memory usage: 1.9 MB\n",
            "None\n",
            "    기온   풍속  습도      기압   일조  일사   전운량  발전량\n",
            "0 -3.6  1.9  66  1027.7  0.0  0.0    9  0.0\n",
            "1 -4.4  2.3  66  1027.6  0.0  0.0    6  0.0\n",
            "2 -4.1  2.1  65  1028.1  0.0  0.0    9  0.0\n",
            "3 -4.0  1.1  63  1028.0  0.0  0.0    9  0.0\n",
            "4 -4.2  1.3  63  1027.5  0.0  0.0    9  0.0\n"
          ]
        }
      ],
      "source": [
        "data = pd.read_csv('/content/drive/MyDrive/Colab Notebooks/mokpo_data.csv')\n",
        "print(data.info())                       # 데이터 셋 정보\n",
        "print(data.head())"
      ]
    },
    {
      "cell_type": "code",
      "execution_count": null,
      "metadata": {
        "colab": {
          "base_uri": "https://localhost:8080/"
        },
        "id": "0UcgC-I3YQYa",
        "outputId": "cad98424-05b6-4a84-a693-14dc7e72ca06"
      },
      "outputs": [
        {
          "name": "stdout",
          "output_type": "stream",
          "text": [
            "(30624, 8)\n",
            "[[0.1991342  0.08920188 0.61363636 0.89668616 0.         0.\n",
            "  0.9        0.        ]\n",
            " [0.18181818 0.10798122 0.61363636 0.89473684 0.         0.\n",
            "  0.6        0.        ]\n",
            " [0.18831169 0.09859155 0.60227273 0.90448343 0.         0.\n",
            "  0.9        0.        ]\n",
            " [0.19047619 0.05164319 0.57954545 0.90253411 0.         0.\n",
            "  0.9        0.        ]\n",
            " [0.18614719 0.06103286 0.57954545 0.89278752 0.         0.\n",
            "  0.9        0.        ]]\n",
            "24499.2\n"
          ]
        }
      ],
      "source": [
        "data = np.array(data)\n",
        "\n",
        "# 정규화\n",
        "data = (data - np.min(data, 0)) / (np.max(data, 0) - np.min(data, 0))\n",
        "print(data.shape)\n",
        "print(data[0 : 5])\n",
        "print(len(data) * 0.8)\n"
      ]
    },
    {
      "cell_type": "code",
      "execution_count": null,
      "metadata": {
        "colab": {
          "base_uri": "https://localhost:8080/"
        },
        "id": "QHTOJuaiTQPg",
        "outputId": "0a8643fe-5537-4d24-de35-2dde34607b94"
      },
      "outputs": [
        {
          "name": "stdout",
          "output_type": "stream",
          "text": [
            "(30623, 8)\n",
            "(30623,)\n"
          ]
        }
      ],
      "source": [
        "# 배열[행 , 열]로 인덱싱한다\n",
        "x_data = data[ : -1, : ]\n",
        "# -1 번째 행(1시간 후 발전량이 없는 데이터) 제거\n",
        "\n",
        "y_data = data[1 : , -1]\n",
        "# 2번째 행부터 마지막 열만 인덱싱(1시간 후 발전량부터 시작)\n",
        "\n",
        "print(x_data.shape)\n",
        "print(y_data.shape)"
      ]
    },
    {
      "cell_type": "code",
      "execution_count": null,
      "metadata": {
        "colab": {
          "base_uri": "https://localhost:8080/"
        },
        "id": "5dT2eEe4TQUO",
        "outputId": "e4b8173b-a9a0-4997-f1ef-935224125a1a"
      },
      "outputs": [
        {
          "name": "stdout",
          "output_type": "stream",
          "text": [
            "(24499, 8)\n",
            "(24499,)\n",
            "(6124, 8)\n",
            "(6124,)\n"
          ]
        }
      ],
      "source": [
        "# 데이터 셋 만들기\n",
        "x_train = x_data[ : 24499 ,  : ]\n",
        "y_train = y_data[ : 24499]\n",
        "\n",
        "x_test = x_data[24499 : ,  : ]\n",
        "y_test = y_data[24499 :]\n",
        "\n",
        "print(x_train.shape)\n",
        "print(y_train.shape)\n",
        "print(x_test.shape)\n",
        "print(y_test.shape)"
      ]
    },
    {
      "cell_type": "markdown",
      "metadata": {
        "id": "BUQ2OnmJYjtQ"
      },
      "source": [
        "## 문제 1 : 다중 회귀"
      ]
    },
    {
      "cell_type": "markdown",
      "metadata": {},
      "source": [
        "### 선형 회귀"
      ]
    },
    {
      "cell_type": "code",
      "execution_count": 47,
      "metadata": {
        "colab": {
          "base_uri": "https://localhost:8080/"
        },
        "id": "7SXBUjDGYmru",
        "outputId": "4c55c11e-80ee-4358-91c3-b0371150a940"
      },
      "outputs": [
        {
          "name": "stdout",
          "output_type": "stream",
          "text": [
            "Train score is 0.8794741049746468\n",
            "Test Score is 0.8716889678746736\n"
          ]
        }
      ],
      "source": [
        "lr = LinearRegression()\n",
        "lr.fit(x_train , y_train)\n",
        "\n",
        "print(f\"Train score is {lr.score(x_train , y_train)}\")\n",
        "print(f\"Test Score is {lr.score(x_test , y_test)}\")"
      ]
    },
    {
      "cell_type": "code",
      "execution_count": 48,
      "metadata": {
        "colab": {
          "base_uri": "https://localhost:8080/"
        },
        "id": "EcbyZFfvaU7S",
        "outputId": "efb95fc9-575c-4394-cb34-b6753d94e2eb"
      },
      "outputs": [
        {
          "name": "stdout",
          "output_type": "stream",
          "text": [
            "mae for test set is 0.05590270487128472\n",
            "mse for test set is 0.008161603057721883\n",
            "rmse for test set is 0.0903415909629772\n",
            "\n",
            "\n",
            "mae for train set is 0.04488559465106675\n",
            "mse for train set is 0.00619308875572293\n",
            "rmse for train set is 0.07869618005801127\n"
          ]
        }
      ],
      "source": [
        "# 테스트 세트\n",
        "test_predict = lr.predict(x_test)\n",
        "\n",
        "mae = mean_absolute_error(y_test , test_predict)\n",
        "mse = mean_squared_error(y_test , test_predict)\n",
        "rmse = mse ** 0.5\n",
        "\n",
        "print(f\"mae for test set is {mae}\")\n",
        "print(f\"mse for test set is {mse}\")\n",
        "print(f\"rmse for test set is {rmse}\")\n",
        "\n",
        "print(\"\\n\")\n",
        "# 훈련 세트\n",
        "train_predict = lr.predict(x_train)\n",
        "\n",
        "mae = mean_absolute_error(y_train , train_predict)\n",
        "mse = mean_squared_error(y_train , train_predict)\n",
        "rmse = mse ** 0.5\n",
        "\n",
        "print(f\"mae for train set is {mae}\")\n",
        "print(f\"mse for train set is {mse}\")\n",
        "print(f\"rmse for train set is {rmse}\")"
      ]
    },
    {
      "cell_type": "markdown",
      "metadata": {
        "id": "0V7-hfyscd2R"
      },
      "source": [
        "##특성 공학"
      ]
    },
    {
      "cell_type": "markdown",
      "metadata": {
        "id": "-IJwD_tNMrwQ"
      },
      "source": [
        "### degree = 2"
      ]
    },
    {
      "cell_type": "code",
      "execution_count": 49,
      "metadata": {
        "colab": {
          "base_uri": "https://localhost:8080/"
        },
        "id": "Tx1a6i3SaVEU",
        "outputId": "1074b446-137c-4b03-ba2c-1704993258b0"
      },
      "outputs": [
        {
          "name": "stdout",
          "output_type": "stream",
          "text": [
            "(24499, 44)\n",
            "(6124, 44)\n"
          ]
        }
      ],
      "source": [
        "# degree = 2\n",
        "\n",
        "poly = PolynomialFeatures(include_bias = False) # 특성 변환기 객체\n",
        "\n",
        "poly.fit(x_train)\n",
        "\n",
        "train_poly = poly.transform(x_train)\n",
        "test_poly = poly.transform(x_test)\n",
        "\n",
        "poly.get_feature_names_out() # 변환 특성 확인\n",
        "print(train_poly.shape)\n",
        "print(test_poly.shape)\n"
      ]
    },
    {
      "cell_type": "code",
      "execution_count": 50,
      "metadata": {
        "colab": {
          "base_uri": "https://localhost:8080/"
        },
        "id": "AgCYx1XzaVGo",
        "outputId": "2fe2c493-c29b-4aa8-849b-07ca232e483f"
      },
      "outputs": [
        {
          "name": "stdout",
          "output_type": "stream",
          "text": [
            "train score : 0.8969992717449276\n",
            "test score : 0.8927687236177932\n"
          ]
        }
      ],
      "source": [
        "lr1 = LinearRegression()\n",
        "lr1.fit(train_poly , y_train)\n",
        "print(f\"train score : {lr1.score(train_poly , y_train)}\")\n",
        "print(f\"test score : {lr1.score(test_poly , y_test)}\")"
      ]
    },
    {
      "cell_type": "code",
      "execution_count": 51,
      "metadata": {
        "colab": {
          "base_uri": "https://localhost:8080/"
        },
        "id": "Ii6JAhuaeUgt",
        "outputId": "8cf5afe3-7cec-44b9-b0c8-5286bbf38064"
      },
      "outputs": [
        {
          "name": "stdout",
          "output_type": "stream",
          "text": [
            "mae for test set is 0.04777431921468522\n",
            "mse for test set is 0.006820762787954337\n",
            "rmse for test set is 0.0825879094538319\n",
            "\n",
            "\n",
            "mae for train set is 0.03987738121357117\n",
            "mse for train set is 0.005292577597980739\n",
            "rmse for train set is 0.07275010376611664\n"
          ]
        }
      ],
      "source": [
        "# 테스트 세트\n",
        "test_predict = lr1.predict(test_poly)\n",
        "\n",
        "mae = mean_absolute_error(y_test , test_predict)\n",
        "mse = mean_squared_error(y_test , test_predict)\n",
        "rmse = mse ** 0.5\n",
        "print(f\"mae for test set is {mae}\")\n",
        "print(f\"mse for test set is {mse}\")\n",
        "print(f\"rmse for test set is {rmse}\")\n",
        "\n",
        "print(\"\\n\")\n",
        "# 훈련 세트\n",
        "train_predict = lr1.predict(train_poly)\n",
        "\n",
        "mae = mean_absolute_error(y_train , train_predict)\n",
        "mse = mean_squared_error(y_train , train_predict)\n",
        "rmse = mse ** 0.5\n",
        "\n",
        "print(f\"mae for train set is {mae}\")\n",
        "print(f\"mse for train set is {mse}\")\n",
        "print(f\"rmse for train set is {rmse}\")"
      ]
    },
    {
      "cell_type": "markdown",
      "metadata": {
        "id": "Ob0oQ7y_Mpms"
      },
      "source": [
        "### degree = 5"
      ]
    },
    {
      "cell_type": "code",
      "execution_count": 52,
      "metadata": {
        "colab": {
          "base_uri": "https://localhost:8080/"
        },
        "id": "xSowyIOGeUjb",
        "outputId": "b02bb0f9-5c48-4f09-ae1c-e2394e88dda3"
      },
      "outputs": [
        {
          "name": "stdout",
          "output_type": "stream",
          "text": [
            "(24499, 1286)\n",
            "(6124, 1286)\n"
          ]
        }
      ],
      "source": [
        "# degree 5\n",
        "poly = PolynomialFeatures(degree = 5 , include_bias = False) # 특성 변환기 객체\n",
        "\n",
        "poly.fit(x_train)\n",
        "\n",
        "train_poly = poly.transform(x_train)\n",
        "test_poly = poly.transform(x_test)\n",
        "\n",
        "poly.get_feature_names_out() # 변환 특성 확인\n",
        "print(train_poly.shape)\n",
        "print(test_poly.shape)\n"
      ]
    },
    {
      "cell_type": "code",
      "execution_count": 52,
      "metadata": {
        "id": "0DS7fS1Mi5TB"
      },
      "outputs": [],
      "source": []
    },
    {
      "cell_type": "code",
      "execution_count": 53,
      "metadata": {
        "colab": {
          "base_uri": "https://localhost:8080/"
        },
        "id": "4kHRLltMeUrf",
        "outputId": "cde5fa8b-3c2f-4214-b6bc-da99a0abd508"
      },
      "outputs": [
        {
          "name": "stdout",
          "output_type": "stream",
          "text": [
            "train score : 0.9247809189180961\n",
            "test score : 0.8586134747887589\n"
          ]
        }
      ],
      "source": [
        "lr = LinearRegression()\n",
        "lr.fit(train_poly , y_train)\n",
        "print(f\"train score : {lr.score(train_poly , y_train)}\")\n",
        "print(f\"test score : {lr.score(test_poly , y_test)}\")"
      ]
    },
    {
      "cell_type": "code",
      "execution_count": 54,
      "metadata": {
        "colab": {
          "base_uri": "https://localhost:8080/"
        },
        "id": "KtrzwiLNfE-1",
        "outputId": "cfc51ab2-d254-4bde-967e-80ec29dc205c"
      },
      "outputs": [
        {
          "name": "stdout",
          "output_type": "stream",
          "text": [
            "mae for test set is 0.04646922291971118\n",
            "mse for test set is 0.008993308504896436\n",
            "rmse for test set is 0.09483305597151467\n",
            "\n",
            "\n",
            "mae for train set is 0.03183356877724959\n",
            "mse for train set is 0.003865048628480701\n",
            "rmse for train set is 0.06216951526657338\n"
          ]
        }
      ],
      "source": [
        "# 테스트 세트\n",
        "test_predict = lr.predict(test_poly)\n",
        "\n",
        "mae = mean_absolute_error(y_test , test_predict)\n",
        "mse = mean_squared_error(y_test , test_predict)\n",
        "rmse = mse ** 0.5\n",
        "print(f\"mae for test set is {mae}\")\n",
        "print(f\"mse for test set is {mse}\")\n",
        "print(f\"rmse for test set is {rmse}\")\n",
        "\n",
        "print(\"\\n\")\n",
        "# 훈련 세트\n",
        "train_predict = lr.predict(train_poly)\n",
        "\n",
        "mae = mean_absolute_error(y_train , train_predict)\n",
        "mse = mean_squared_error(y_train , train_predict)\n",
        "rmse = mse ** 0.5\n",
        "\n",
        "print(f\"mae for train set is {mae}\")\n",
        "print(f\"mse for train set is {mse}\")\n",
        "print(f\"rmse for train set is {rmse}\")"
      ]
    },
    {
      "cell_type": "markdown",
      "metadata": {
        "id": "wRjs-3jjfLdM"
      },
      "source": [
        "## 릿지"
      ]
    },
    {
      "cell_type": "code",
      "execution_count": 55,
      "metadata": {
        "colab": {
          "base_uri": "https://localhost:8080/"
        },
        "id": "UImRsvWZeizy",
        "outputId": "393208fe-0dac-43be-b18a-1a6830948b00"
      },
      "outputs": [
        {
          "name": "stdout",
          "output_type": "stream",
          "text": [
            "train score : 0.9076175478929601\n",
            "test score : 0.9039611136363551\n"
          ]
        }
      ],
      "source": [
        "ridge = Ridge()\n",
        "ridge.fit(train_poly , y_train)\n",
        "\n",
        "print(f\"train score : {ridge.score(train_poly , y_train)}\")\n",
        "print(f\"test score : {ridge.score(test_poly , y_test)}\")"
      ]
    },
    {
      "cell_type": "code",
      "execution_count": 56,
      "metadata": {
        "colab": {
          "base_uri": "https://localhost:8080/"
        },
        "id": "fKA6zAoqei2I",
        "outputId": "1a01e5ed-9e9a-419f-ba06-46a214b7e10a"
      },
      "outputs": [
        {
          "name": "stdout",
          "output_type": "stream",
          "text": [
            "mae for test set is 0.04646922291971118\n",
            "mse for test set is 0.008993308504896436\n",
            "rmse for test set is 0.09483305597151467\n",
            "\n",
            "\n",
            "mae for train set is 0.03183356877724959\n",
            "mse for train set is 0.003865048628480701\n",
            "rmse for train set is 0.06216951526657338\n"
          ]
        }
      ],
      "source": [
        "# 테스트 세트\n",
        "test_predict = lr.predict(test_poly)\n",
        "\n",
        "mae = mean_absolute_error(y_test , test_predict)\n",
        "mse = mean_squared_error(y_test , test_predict)\n",
        "rmse = mse ** 0.5\n",
        "print(f\"mae for test set is {mae}\")\n",
        "print(f\"mse for test set is {mse}\")\n",
        "print(f\"rmse for test set is {rmse}\")\n",
        "\n",
        "print(\"\\n\")\n",
        "# 훈련 세트\n",
        "train_predict = lr.predict(train_poly)\n",
        "\n",
        "mae = mean_absolute_error(y_train , train_predict)\n",
        "mse = mean_squared_error(y_train , train_predict)\n",
        "rmse = mse ** 0.5\n",
        "\n",
        "print(f\"mae for train set is {mae}\")\n",
        "print(f\"mse for train set is {mse}\")\n",
        "print(f\"rmse for train set is {rmse}\")"
      ]
    },
    {
      "cell_type": "code",
      "execution_count": 57,
      "metadata": {
        "colab": {
          "base_uri": "https://localhost:8080/"
        },
        "id": "TiMwInKbei4F",
        "outputId": "c1107f69-846c-400f-dd7c-9242d30b5910"
      },
      "outputs": [
        {
          "name": "stdout",
          "output_type": "stream",
          "text": [
            "0.03183356877724959\n",
            "0.003865048628480701\n",
            "0.06216951526657338\n"
          ]
        }
      ],
      "source": [
        "train_predict = lr.predict(train_poly)\n",
        "\n",
        "mae = mean_absolute_error(y_train , train_predict)\n",
        "mse = mean_squared_error(y_train , train_predict)\n",
        "rmse = mse ** 0.5\n",
        "\n",
        "print(mae)\n",
        "print(mse)\n",
        "print(rmse)"
      ]
    },
    {
      "cell_type": "code",
      "execution_count": 57,
      "metadata": {
        "id": "bzXCwNjNei6C"
      },
      "outputs": [],
      "source": []
    },
    {
      "cell_type": "markdown",
      "metadata": {
        "id": "4G_-QZiwgOsq"
      },
      "source": [
        "라쏘"
      ]
    },
    {
      "cell_type": "code",
      "execution_count": 58,
      "metadata": {
        "colab": {
          "base_uri": "https://localhost:8080/"
        },
        "id": "Us99V2Trgcxv",
        "outputId": "20c8e66d-69f1-4dd8-d2a0-75e3125e1113"
      },
      "outputs": [
        {
          "name": "stdout",
          "output_type": "stream",
          "text": [
            "train score = 0.8916799414500155\n",
            "test score = 0.8868284107134496\n"
          ]
        }
      ],
      "source": [
        "from sklearn.linear_model import Lasso\n",
        "lasso = Lasso(alpha = 0.0001)\n",
        "lasso.fit(train_poly , y_train)\n",
        "print(f\"train score = {lasso.score(train_poly , y_train)}\")\n",
        "print(f\"test score = {lasso.score(test_poly , y_test)}\")"
      ]
    },
    {
      "cell_type": "code",
      "execution_count": 59,
      "metadata": {
        "colab": {
          "base_uri": "https://localhost:8080/"
        },
        "id": "2taBuQSugc8P",
        "outputId": "60c99aef-1dff-475a-937c-bca0aa0a6b4b"
      },
      "outputs": [
        {
          "name": "stdout",
          "output_type": "stream",
          "text": [
            "mae for test set is 0.04897836177003491\n",
            "mse for test set is 0.007198613976280532\n",
            "rmse for test set is 0.08484464612620252\n",
            "\n",
            "\n",
            "mae for train set is 0.04030819432714047\n",
            "mse for train set is 0.0055659054552886335\n",
            "rmse for train set is 0.07460499618181501\n"
          ]
        }
      ],
      "source": [
        "# 테스트 세트\n",
        "test_predict = lasso.predict(test_poly)\n",
        "\n",
        "mae = mean_absolute_error(y_test , test_predict)\n",
        "mse = mean_squared_error(y_test , test_predict)\n",
        "rmse = mse ** 0.5\n",
        "print(f\"mae for test set is {mae}\")\n",
        "print(f\"mse for test set is {mse}\")\n",
        "print(f\"rmse for test set is {rmse}\")\n",
        "\n",
        "print(\"\\n\")\n",
        "# 훈련 세트\n",
        "train_predict = lasso.predict(train_poly)\n",
        "\n",
        "mae = mean_absolute_error(y_train , train_predict)\n",
        "mse = mean_squared_error(y_train , train_predict)\n",
        "rmse = mse ** 0.5\n",
        "\n",
        "print(f\"mae for train set is {mae}\")\n",
        "print(f\"mse for train set is {mse}\")\n",
        "print(f\"rmse for train set is {rmse}\")"
      ]
    },
    {
      "cell_type": "markdown",
      "metadata": {
        "id": "L1yNBZrAO0Ke"
      },
      "source": [
        "# 수원 데이터"
      ]
    },
    {
      "cell_type": "code",
      "execution_count": 60,
      "metadata": {
        "colab": {
          "base_uri": "https://localhost:8080/"
        },
        "id": "y2dzJVXoO4Qg",
        "outputId": "7696f519-2fba-4cea-a0c5-ce40a330cfb5"
      },
      "outputs": [
        {
          "name": "stdout",
          "output_type": "stream",
          "text": [
            "<class 'pandas.core.frame.DataFrame'>\n",
            "RangeIndex: 30624 entries, 0 to 30623\n",
            "Data columns (total 8 columns):\n",
            " #   Column  Non-Null Count  Dtype  \n",
            "---  ------  --------------  -----  \n",
            " 0   기온      30624 non-null  float64\n",
            " 1   풍속      30624 non-null  float64\n",
            " 2   습도      30624 non-null  float64\n",
            " 3   기압      30624 non-null  float64\n",
            " 4   일조      30624 non-null  float64\n",
            " 5   일사      30624 non-null  float64\n",
            " 6   전운량     30624 non-null  float64\n",
            " 7   발전량     30624 non-null  float64\n",
            "dtypes: float64(8)\n",
            "memory usage: 1.9 MB\n",
            "None\n",
            "    기온   풍속    습도      기압   일조  일사   전운량  발전량\n",
            "0 -6.3  2.4  74.0  1028.6  0.0  0.0  9.0  0.0\n",
            "1 -6.2  1.6  70.0  1028.2  0.0  0.0  6.0  0.0\n",
            "2 -5.8  1.6  65.0  1028.3  0.0  0.0  7.0  0.0\n",
            "3 -5.4  1.3  64.0  1028.3  0.0  0.0  9.0  0.0\n",
            "4 -5.1  1.0  67.0  1027.6  0.0  0.0  9.0  0.0\n"
          ]
        }
      ],
      "source": [
        "data = pd.read_csv('/content/drive/MyDrive/suwon_data.csv', encoding='cp949')\n",
        "data = data.fillna(0)\n",
        "print(data.info())                     # 데이터 셋 정보\n",
        "print(data.head())                   # 처음 5개 샘플 보기"
      ]
    },
    {
      "cell_type": "code",
      "execution_count": 61,
      "metadata": {
        "colab": {
          "base_uri": "https://localhost:8080/"
        },
        "id": "thQl_1fDPh2M",
        "outputId": "2b208c9d-d410-48c6-cb4e-c3a68a816772"
      },
      "outputs": [
        {
          "name": "stdout",
          "output_type": "stream",
          "text": [
            "Drive already mounted at /content/drive; to attempt to forcibly remount, call drive.mount(\"/content/drive\", force_remount=True).\n"
          ]
        }
      ],
      "source": [
        "from google.colab import drive\n",
        "drive.mount('/content/drive')"
      ]
    },
    {
      "cell_type": "code",
      "execution_count": 62,
      "metadata": {
        "colab": {
          "base_uri": "https://localhost:8080/"
        },
        "id": "fGHeVMNAO4S1",
        "outputId": "39c58297-ebae-4e2e-d68c-9a5662bc0dcc"
      },
      "outputs": [
        {
          "name": "stdout",
          "output_type": "stream",
          "text": [
            "(30624, 8)\n",
            "[[0.21978022 0.24742268 0.70454545 0.99516254 0.         0.\n",
            "  0.9        0.        ]\n",
            " [0.22161172 0.16494845 0.65909091 0.99477554 0.         0.\n",
            "  0.6        0.        ]\n",
            " [0.22893773 0.16494845 0.60227273 0.99487229 0.         0.\n",
            "  0.7        0.        ]\n",
            " [0.23626374 0.13402062 0.59090909 0.99487229 0.         0.\n",
            "  0.9        0.        ]\n",
            " [0.24175824 0.10309278 0.625      0.99419505 0.         0.\n",
            "  0.9        0.        ]]\n",
            "24499.2\n"
          ]
        }
      ],
      "source": [
        "data = np.array(data)\n",
        "\n",
        "data = (data - np.min(data, 0)) / (np.max(data, 0) - np.min(data, 0))\n",
        "print(data.shape)\n",
        "print(data[0 : 5])\n",
        "print(len(data) * 0.8)\n"
      ]
    },
    {
      "cell_type": "code",
      "execution_count": 63,
      "metadata": {
        "colab": {
          "base_uri": "https://localhost:8080/"
        },
        "id": "-azmC65kO4U5",
        "outputId": "076c6f8a-dded-415d-fcb1-e1b668eb4fd1"
      },
      "outputs": [
        {
          "name": "stdout",
          "output_type": "stream",
          "text": [
            "(30623, 8)\n",
            "(30623,)\n"
          ]
        }
      ],
      "source": [
        "x_data = data[ : -1, : ]\n",
        "y_data = data[1 : , -1]\n",
        "print(x_data.shape)\n",
        "print(y_data.shape)\n"
      ]
    },
    {
      "cell_type": "code",
      "execution_count": 64,
      "metadata": {
        "colab": {
          "base_uri": "https://localhost:8080/"
        },
        "id": "viramlFpO4XP",
        "outputId": "e03ba339-ee35-4a93-c004-40d89feff744"
      },
      "outputs": [
        {
          "name": "stdout",
          "output_type": "stream",
          "text": [
            "(24499, 8)\n",
            "(24499,)\n",
            "(6124, 8)\n",
            "(6124,)\n"
          ]
        }
      ],
      "source": [
        "# 데이터 셋 만들기\n",
        "x_train = x_data[ : 24499 ,  : ]\n",
        "y_train = y_data[ : 24499]\n",
        "\n",
        "x_test = x_data[24499 : ,  : ]\n",
        "y_test = y_data[24499 :]\n",
        "\n",
        "print(x_train.shape)\n",
        "print(y_train.shape)\n",
        "print(x_test.shape)\n",
        "print(y_test.shape)"
      ]
    },
    {
      "cell_type": "markdown",
      "metadata": {
        "id": "O36EBswEQoVy"
      },
      "source": [
        "## 다중 회귀"
      ]
    },
    {
      "cell_type": "code",
      "execution_count": 65,
      "metadata": {
        "colab": {
          "base_uri": "https://localhost:8080/"
        },
        "id": "azyvWPC9O4ZV",
        "outputId": "137b2428-2511-4f4e-da77-6067b6eb70a6"
      },
      "outputs": [
        {
          "name": "stdout",
          "output_type": "stream",
          "text": [
            "Train score is 0.8551717538717083\n",
            "Test Score is 0.8436807312209164\n"
          ]
        }
      ],
      "source": [
        "lr = LinearRegression()\n",
        "lr.fit(x_train , y_train)\n",
        "\n",
        "print(f\"Train score is {lr.score(x_train , y_train)}\")\n",
        "print(f\"Test Score is {lr.score(x_test , y_test)}\")"
      ]
    },
    {
      "cell_type": "code",
      "execution_count": 66,
      "metadata": {
        "colab": {
          "base_uri": "https://localhost:8080/"
        },
        "id": "GUkz322eO4by",
        "outputId": "a0648425-084e-4d3f-a285-ead056e49692"
      },
      "outputs": [
        {
          "name": "stdout",
          "output_type": "stream",
          "text": [
            "mae for test set is 0.05086376630546506\n",
            "mse for test set is 0.007012839647720558\n",
            "rmse for test set is 0.08374269907114625\n",
            "\n",
            "\n",
            "mae for train set is 0.04260189930757277\n",
            "mse for train set is 0.006052628816752102\n",
            "rmse for train set is 0.07779864276934464\n"
          ]
        }
      ],
      "source": [
        "# 테스트 세트\n",
        "test_predict = lr.predict(x_test)\n",
        "\n",
        "mae = mean_absolute_error(y_test , test_predict)\n",
        "mse = mean_squared_error(y_test , test_predict)\n",
        "rmse = mse ** 0.5\n",
        "print(f\"mae for test set is {mae}\")\n",
        "print(f\"mse for test set is {mse}\")\n",
        "print(f\"rmse for test set is {rmse}\")\n",
        "\n",
        "print(\"\\n\")\n",
        "# 훈련 세트\n",
        "train_predict = lr.predict(x_train)\n",
        "\n",
        "mae = mean_absolute_error(y_train , train_predict)\n",
        "mse = mean_squared_error(y_train , train_predict)\n",
        "rmse = mse ** 0.5\n",
        "\n",
        "print(f\"mae for train set is {mae}\")\n",
        "print(f\"mse for train set is {mse}\")\n",
        "print(f\"rmse for train set is {rmse}\")"
      ]
    },
    {
      "cell_type": "markdown",
      "metadata": {
        "id": "VnWCf3ktQ6UR"
      },
      "source": [
        "## 특성 공학"
      ]
    },
    {
      "cell_type": "markdown",
      "metadata": {
        "id": "_Ea-jJ5uQ_7S"
      },
      "source": [
        "### degree = 2"
      ]
    },
    {
      "cell_type": "code",
      "execution_count": 67,
      "metadata": {
        "colab": {
          "base_uri": "https://localhost:8080/"
        },
        "id": "4nRFEUwcO4fs",
        "outputId": "53eb16da-b857-452c-ce0f-c4e17f7f9246"
      },
      "outputs": [
        {
          "name": "stdout",
          "output_type": "stream",
          "text": [
            "(24499, 44)\n",
            "(6124, 44)\n"
          ]
        }
      ],
      "source": [
        "# degree = 2\n",
        "\n",
        "poly = PolynomialFeatures(include_bias = False) # 특성 변환기 객체 , default degree = 2\n",
        "\n",
        "poly.fit(x_train)\n",
        "\n",
        "train_poly = poly.transform(x_train)\n",
        "test_poly = poly.transform(x_test)\n",
        "\n",
        "poly.get_feature_names_out() # 변환 특성 확인\n",
        "print(train_poly.shape)\n",
        "print(test_poly.shape)\n"
      ]
    },
    {
      "cell_type": "code",
      "execution_count": 68,
      "metadata": {
        "colab": {
          "base_uri": "https://localhost:8080/"
        },
        "id": "OJmY0XcWO4hq",
        "outputId": "0ad8a8ec-6025-475c-ee65-7c8ae28c4b3c"
      },
      "outputs": [
        {
          "name": "stdout",
          "output_type": "stream",
          "text": [
            "train score : 0.867903819038744\n",
            "test score : 0.8583150229104903\n"
          ]
        }
      ],
      "source": [
        "lr1 = LinearRegression()\n",
        "lr1.fit(train_poly , y_train)\n",
        "print(f\"train score : {lr1.score(train_poly , y_train)}\")\n",
        "print(f\"test score : {lr1.score(test_poly , y_test)}\")"
      ]
    },
    {
      "cell_type": "code",
      "execution_count": 69,
      "metadata": {
        "colab": {
          "base_uri": "https://localhost:8080/"
        },
        "id": "TJ2PLCbJRCjA",
        "outputId": "e400a687-eafb-42e0-d17e-80274a883483"
      },
      "outputs": [
        {
          "name": "stdout",
          "output_type": "stream",
          "text": [
            "mae for test set is 0.044170426587809175\n",
            "mse for test set is 0.006356311877481371\n",
            "rmse for test set is 0.0797264816574855\n",
            "\n",
            "\n",
            "mae for train set is 0.03787475927461138\n",
            "mse for train set is 0.005520533271947239\n",
            "rmse for train set is 0.07430029119692089\n"
          ]
        }
      ],
      "source": [
        "# 테스트 세트\n",
        "test_predict = lr1.predict(test_poly)\n",
        "\n",
        "mae = mean_absolute_error(y_test , test_predict)\n",
        "mse = mean_squared_error(y_test , test_predict)\n",
        "rmse = mse ** 0.5\n",
        "print(f\"mae for test set is {mae}\")\n",
        "print(f\"mse for test set is {mse}\")\n",
        "print(f\"rmse for test set is {rmse}\")\n",
        "\n",
        "print(\"\\n\")\n",
        "# 훈련 세트\n",
        "train_predict = lr1.predict(train_poly)\n",
        "\n",
        "mae = mean_absolute_error(y_train , train_predict)\n",
        "mse = mean_squared_error(y_train , train_predict)\n",
        "rmse = mse ** 0.5\n",
        "\n",
        "print(f\"mae for train set is {mae}\")\n",
        "print(f\"mse for train set is {mse}\")\n",
        "print(f\"rmse for train set is {rmse}\")"
      ]
    },
    {
      "cell_type": "markdown",
      "metadata": {
        "id": "HhwRYrUKREmM"
      },
      "source": [
        "### degree = 5"
      ]
    },
    {
      "cell_type": "code",
      "execution_count": 70,
      "metadata": {
        "colab": {
          "base_uri": "https://localhost:8080/"
        },
        "id": "VDyT0GA-RClE",
        "outputId": "e2d6b93f-03fe-44f1-fe5d-42ac5aca22d4"
      },
      "outputs": [
        {
          "name": "stdout",
          "output_type": "stream",
          "text": [
            "(24499, 1286)\n",
            "(6124, 1286)\n"
          ]
        }
      ],
      "source": [
        "# degree 5\n",
        "poly = PolynomialFeatures(degree = 5 , include_bias = False) # 특성 변환기 객체\n",
        "\n",
        "poly.fit(x_train)\n",
        "\n",
        "train_poly = poly.transform(x_train)\n",
        "test_poly = poly.transform(x_test)\n",
        "\n",
        "poly.get_feature_names_out() # 변환 특성 확인\n",
        "print(train_poly.shape)\n",
        "print(test_poly.shape)\n"
      ]
    },
    {
      "cell_type": "code",
      "execution_count": 70,
      "metadata": {
        "id": "DzvMK7pXRIN2"
      },
      "outputs": [],
      "source": []
    },
    {
      "cell_type": "code",
      "execution_count": 71,
      "metadata": {
        "colab": {
          "base_uri": "https://localhost:8080/"
        },
        "id": "aTcFyj3DRCnP",
        "outputId": "d7f3d485-4ef2-4390-9309-4e5f3b2f462b"
      },
      "outputs": [
        {
          "name": "stdout",
          "output_type": "stream",
          "text": [
            "train score : 0.9029775669690199\n",
            "test score : 0.8004826239523307\n"
          ]
        }
      ],
      "source": [
        "lr = LinearRegression()\n",
        "lr.fit(train_poly , y_train)\n",
        "print(f\"train score : {lr.score(train_poly , y_train)}\")\n",
        "print(f\"test score : {lr.score(test_poly , y_test)}\")"
      ]
    },
    {
      "cell_type": "code",
      "execution_count": 72,
      "metadata": {
        "colab": {
          "base_uri": "https://localhost:8080/"
        },
        "id": "ituItDnuRCpX",
        "outputId": "e9c82afe-dab9-4cd9-eec4-bc5eff6dd7f4"
      },
      "outputs": [
        {
          "name": "stdout",
          "output_type": "stream",
          "text": [
            "mae for test set is 0.0463675673226442\n",
            "mse for test set is 0.008950805464255633\n",
            "rmse for test set is 0.09460869655721736\n",
            "\n",
            "\n",
            "mae for train set is 0.031121974065586488\n",
            "mse for train set is 0.004054739249652462\n",
            "rmse for train set is 0.06367683448203484\n"
          ]
        }
      ],
      "source": [
        "# 테스트 세트\n",
        "test_predict = lr.predict(test_poly)\n",
        "\n",
        "mae = mean_absolute_error(y_test , test_predict)\n",
        "mse = mean_squared_error(y_test , test_predict)\n",
        "rmse = mse ** 0.5\n",
        "print(f\"mae for test set is {mae}\")\n",
        "print(f\"mse for test set is {mse}\")\n",
        "print(f\"rmse for test set is {rmse}\")\n",
        "\n",
        "print(\"\\n\")\n",
        "# 훈련 세트\n",
        "train_predict = lr.predict(train_poly)\n",
        "\n",
        "mae = mean_absolute_error(y_train , train_predict)\n",
        "mse = mean_squared_error(y_train , train_predict)\n",
        "rmse = mse ** 0.5\n",
        "\n",
        "print(f\"mae for train set is {mae}\")\n",
        "print(f\"mse for train set is {mse}\")\n",
        "print(f\"rmse for train set is {rmse}\")"
      ]
    },
    {
      "cell_type": "code",
      "execution_count": 72,
      "metadata": {
        "id": "lFWBVGSMRCr4"
      },
      "outputs": [],
      "source": []
    },
    {
      "cell_type": "markdown",
      "metadata": {
        "id": "H40WVxBCRLuF"
      },
      "source": [
        "## 릿지"
      ]
    },
    {
      "cell_type": "code",
      "execution_count": 73,
      "metadata": {
        "colab": {
          "base_uri": "https://localhost:8080/"
        },
        "id": "h5URrP4sRCuN",
        "outputId": "eb66a6e0-13ba-4d81-c8ae-5dbc128c7315"
      },
      "outputs": [
        {
          "name": "stdout",
          "output_type": "stream",
          "text": [
            "train score : 0.8838487560559837\n",
            "test score : 0.8688771226131586\n"
          ]
        }
      ],
      "source": [
        "ridge = Ridge()\n",
        "ridge.fit(train_poly , y_train)\n",
        "\n",
        "print(f\"train score : {ridge.score(train_poly , y_train)}\")\n",
        "print(f\"test score : {ridge.score(test_poly , y_test)}\")"
      ]
    },
    {
      "cell_type": "code",
      "execution_count": 74,
      "metadata": {
        "colab": {
          "base_uri": "https://localhost:8080/"
        },
        "id": "Yh3R3E1QRCwP",
        "outputId": "7f2bb2d0-1dc4-4104-bb5f-9d3ead16c0e9"
      },
      "outputs": [
        {
          "name": "stdout",
          "output_type": "stream",
          "text": [
            "mae for test set is 0.0463675673226442\n",
            "mse for test set is 0.008950805464255633\n",
            "rmse for test set is 0.09460869655721736\n",
            "\n",
            "\n",
            "mae for train set is 0.031121974065586488\n",
            "mse for train set is 0.004054739249652462\n",
            "rmse for train set is 0.06367683448203484\n"
          ]
        }
      ],
      "source": [
        "# 테스트 세트\n",
        "test_predict = lr.predict(test_poly)\n",
        "\n",
        "mae = mean_absolute_error(y_test , test_predict)\n",
        "mse = mean_squared_error(y_test , test_predict)\n",
        "rmse = mse ** 0.5\n",
        "print(f\"mae for test set is {mae}\")\n",
        "print(f\"mse for test set is {mse}\")\n",
        "print(f\"rmse for test set is {rmse}\")\n",
        "\n",
        "print(\"\\n\")\n",
        "# 훈련 세트\n",
        "train_predict = lr.predict(train_poly)\n",
        "\n",
        "mae = mean_absolute_error(y_train , train_predict)\n",
        "mse = mean_squared_error(y_train , train_predict)\n",
        "rmse = mse ** 0.5\n",
        "\n",
        "print(f\"mae for train set is {mae}\")\n",
        "print(f\"mse for train set is {mse}\")\n",
        "print(f\"rmse for train set is {rmse}\")"
      ]
    },
    {
      "cell_type": "code",
      "execution_count": 75,
      "metadata": {
        "colab": {
          "base_uri": "https://localhost:8080/"
        },
        "id": "tMaYSf2kRCyN",
        "outputId": "b82970c4-8cb0-4a0e-ddd0-9882c526a3e1"
      },
      "outputs": [
        {
          "name": "stdout",
          "output_type": "stream",
          "text": [
            "0.031121974065586488\n",
            "0.004054739249652462\n",
            "0.06367683448203484\n"
          ]
        }
      ],
      "source": [
        "train_predict = lr.predict(train_poly)\n",
        "\n",
        "mae = mean_absolute_error(y_train , train_predict)\n",
        "mse = mean_squared_error(y_train , train_predict)\n",
        "rmse = mse ** 0.5\n",
        "\n",
        "print(mae)\n",
        "print(mse)\n",
        "print(rmse)"
      ]
    },
    {
      "cell_type": "code",
      "execution_count": 75,
      "metadata": {
        "id": "So3l3n-yRC0P"
      },
      "outputs": [],
      "source": []
    },
    {
      "cell_type": "markdown",
      "metadata": {
        "id": "BZO42HqyRQrD"
      },
      "source": [
        "## 라쏘"
      ]
    },
    {
      "cell_type": "code",
      "execution_count": 76,
      "metadata": {
        "colab": {
          "base_uri": "https://localhost:8080/"
        },
        "id": "yCKYuotPRC12",
        "outputId": "1a8d1dbb-e215-49e5-b85b-2f9210a606f6"
      },
      "outputs": [
        {
          "name": "stdout",
          "output_type": "stream",
          "text": [
            "train score = 0.8674020015208145\n",
            "test score = 0.8572934601151303\n"
          ]
        },
        {
          "name": "stderr",
          "output_type": "stream",
          "text": [
            "/usr/local/lib/python3.10/dist-packages/sklearn/linear_model/_coordinate_descent.py:631: ConvergenceWarning: Objective did not converge. You might want to increase the number of iterations, check the scale of the features or consider increasing regularisation. Duality gap: 2.749e-01, tolerance: 1.024e-01\n",
            "  model = cd_fast.enet_coordinate_descent(\n"
          ]
        }
      ],
      "source": [
        "lasso = Lasso(alpha = 0.0001)\n",
        "lasso.fit(train_poly , y_train)\n",
        "print(f\"train score = {lasso.score(train_poly , y_train)}\")\n",
        "print(f\"test score = {lasso.score(test_poly , y_test)}\")"
      ]
    },
    {
      "cell_type": "code",
      "execution_count": 77,
      "metadata": {
        "colab": {
          "base_uri": "https://localhost:8080/"
        },
        "id": "e-SDr4W4RVGO",
        "outputId": "e2fe852e-b17d-4313-aadc-43b9c322ff08"
      },
      "outputs": [
        {
          "name": "stdout",
          "output_type": "stream",
          "text": [
            "mae for test set is 0.044414170107962024\n",
            "mse for test set is 0.006402141519149291\n",
            "rmse for test set is 0.08001338337521599\n",
            "\n",
            "\n",
            "mae for train set is 0.03725224487651596\n",
            "mse for train set is 0.0055415051144639335\n",
            "rmse for train set is 0.07444128635685934\n"
          ]
        }
      ],
      "source": [
        "# 테스트 세트\n",
        "test_predict = lasso.predict(test_poly)\n",
        "\n",
        "mae = mean_absolute_error(y_test , test_predict)\n",
        "mse = mean_squared_error(y_test , test_predict)\n",
        "rmse = mse ** 0.5\n",
        "print(f\"mae for test set is {mae}\")\n",
        "print(f\"mse for test set is {mse}\")\n",
        "print(f\"rmse for test set is {rmse}\")\n",
        "\n",
        "print(\"\\n\")\n",
        "# 훈련 세트\n",
        "train_predict = lasso.predict(train_poly)\n",
        "\n",
        "mae = mean_absolute_error(y_train , train_predict)\n",
        "mse = mean_squared_error(y_train , train_predict)\n",
        "rmse = mse ** 0.5\n",
        "\n",
        "print(f\"mae for train set is {mae}\")\n",
        "print(f\"mse for train set is {mse}\")\n",
        "print(f\"rmse for train set is {rmse}\")"
      ]
    },
    {
      "cell_type": "code",
      "execution_count": 77,
      "metadata": {
        "id": "uGOYLdncRVI3"
      },
      "outputs": [],
      "source": []
    },
    {
      "cell_type": "code",
      "execution_count": 77,
      "metadata": {
        "id": "JMYjs6kERVLG"
      },
      "outputs": [],
      "source": []
    },
    {
      "cell_type": "code",
      "execution_count": 77,
      "metadata": {
        "id": "nvXI_NLTRVNQ"
      },
      "outputs": [],
      "source": []
    },
    {
      "cell_type": "code",
      "execution_count": 77,
      "metadata": {
        "id": "hbNa03_BRVPf"
      },
      "outputs": [],
      "source": []
    }
  ],
  "metadata": {
    "colab": {
      "provenance": []
    },
    "kernelspec": {
      "display_name": "Python 3",
      "name": "python3"
    },
    "language_info": {
      "name": "python"
    }
  },
  "nbformat": 4,
  "nbformat_minor": 0
}
